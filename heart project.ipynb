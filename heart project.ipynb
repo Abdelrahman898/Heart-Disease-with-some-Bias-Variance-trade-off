{
 "cells": [
  {
   "attachments": {},
   "cell_type": "markdown",
   "metadata": {},
   "source": [
    "# Heart Failure Prediction Project\n"
   ]
  },
  {
   "cell_type": "markdown",
   "metadata": {},
   "source": [
    "Let's import the libraries we will use"
   ]
  },
  {
   "cell_type": "code",
   "execution_count": 2,
   "metadata": {},
   "outputs": [],
   "source": [
    "import numpy as np\n",
    "import pandas as pd\n",
    "from sklearn.tree import DecisionTreeClassifier\n",
    "from sklearn.ensemble import RandomForestClassifier\n",
    "from sklearn.model_selection import train_test_split\n",
    "from sklearn.metrics import accuracy_score\n",
    "from xgboost import XGBClassifier\n",
    "import matplotlib.pyplot as plt\n",
    "\n",
    "RANDOM_STATE = 55 ## We will pass it to every sklearn call so we ensure reproducibility"
   ]
  },
  {
   "cell_type": "markdown",
   "metadata": {},
   "source": [
    "# 1. Introduction"
   ]
  },
  {
   "attachments": {},
   "cell_type": "markdown",
   "metadata": {},
   "source": [
    "#### Datatset\n",
    "- This dataset is obtained from Kaggle: [Heart Failure Prediction Dataset](https://www.kaggle.com/datasets/fedesoriano/heart-failure-prediction)\n",
    "\n",
    "#### Context\n",
    "- Cardiovascular disease (CVDs) is the number one cause of death globally, taking an estimated 17.9 million lives each year, which accounts for 31% of all deaths worldwide. Four out of five CVD deaths are due to heart attacks and strokes, and one-third of these deaths occur prematurely in people under 70 years of age. Heart failure is a common event caused by CVDs.\n",
    "- People with cardiovascular disease or who are at high cardiovascular risk (due to the presence of one or more risk factors such as hypertension, diabetes, hyperlipidaemia or already established disease) need early detection and management.  \n",
    "- This dataset contains 11 features that can be used to predict possible heart disease.\n",
    "\n",
    "#### Attribute Information\n",
    "- Age: age of the patient [years]\n",
    "- Sex: sex of the patient [M: Male, F: Female]\n",
    "- ChestPainType: chest pain type [TA: Typical Angina, ATA: Atypical Angina, NAP: Non-Anginal Pain, ASY: Asymptomatic]\n",
    "- RestingBP: resting blood pressure [mm Hg]\n",
    "- Cholesterol: serum cholesterol [mm/dl]\n",
    "- FastingBS: fasting blood sugar [1: if FastingBS > 120 mg/dl, 0: otherwise]\n",
    "- RestingECG: resting electrocardiogram results [Normal: Normal, ST: having ST-T wave abnormality (T wave inversions and/or ST elevation or depression of > 0.05 mV), LVH: showing probable or definite left ventricular hypertrophy by Estes' criteria]\n",
    "- MaxHR: maximum heart rate achieved [Numeric value between 60 and 202]\n",
    "- ExerciseAngina: exercise-induced angina [Y: Yes, N: No]\n",
    "- Oldpeak: oldpeak = ST [Numeric value measured in depression]\n",
    "- ST_Slope: the slope of the peak exercise ST segment [Up: upsloping, Flat: flat, Down: downsloping]\n",
    "- HeartDisease: output class [1: heart disease, 0: Normal]"
   ]
  },
  {
   "attachments": {},
   "cell_type": "markdown",
   "metadata": {},
   "source": [
    "Let's now load the dataset. As we can see above, the variables below Are **categorical**, so we must one-hot encode them. \n",
    "\n",
    "- Sex\n",
    "- ChestPainType\n",
    "- RestingECG\n",
    "- ExerciseAngina\n",
    "- ST_Slope\n",
    "\n"
   ]
  },
  {
   "cell_type": "code",
   "execution_count": 3,
   "metadata": {},
   "outputs": [],
   "source": [
    "# read data\n",
    "df = pd.read_csv(\"heart.csv\")"
   ]
  },
  {
   "cell_type": "code",
   "execution_count": 4,
   "metadata": {},
   "outputs": [
    {
     "data": {
      "text/html": [
       "<div>\n",
       "<style scoped>\n",
       "    .dataframe tbody tr th:only-of-type {\n",
       "        vertical-align: middle;\n",
       "    }\n",
       "\n",
       "    .dataframe tbody tr th {\n",
       "        vertical-align: top;\n",
       "    }\n",
       "\n",
       "    .dataframe thead th {\n",
       "        text-align: right;\n",
       "    }\n",
       "</style>\n",
       "<table border=\"1\" class=\"dataframe\">\n",
       "  <thead>\n",
       "    <tr style=\"text-align: right;\">\n",
       "      <th></th>\n",
       "      <th>Age</th>\n",
       "      <th>Sex</th>\n",
       "      <th>ChestPainType</th>\n",
       "      <th>RestingBP</th>\n",
       "      <th>Cholesterol</th>\n",
       "      <th>FastingBS</th>\n",
       "      <th>RestingECG</th>\n",
       "      <th>MaxHR</th>\n",
       "      <th>ExerciseAngina</th>\n",
       "      <th>Oldpeak</th>\n",
       "      <th>ST_Slope</th>\n",
       "      <th>HeartDisease</th>\n",
       "    </tr>\n",
       "  </thead>\n",
       "  <tbody>\n",
       "    <tr>\n",
       "      <th>0</th>\n",
       "      <td>40</td>\n",
       "      <td>M</td>\n",
       "      <td>ATA</td>\n",
       "      <td>140</td>\n",
       "      <td>289</td>\n",
       "      <td>0</td>\n",
       "      <td>Normal</td>\n",
       "      <td>172</td>\n",
       "      <td>N</td>\n",
       "      <td>0.0</td>\n",
       "      <td>Up</td>\n",
       "      <td>0</td>\n",
       "    </tr>\n",
       "    <tr>\n",
       "      <th>1</th>\n",
       "      <td>49</td>\n",
       "      <td>F</td>\n",
       "      <td>NAP</td>\n",
       "      <td>160</td>\n",
       "      <td>180</td>\n",
       "      <td>0</td>\n",
       "      <td>Normal</td>\n",
       "      <td>156</td>\n",
       "      <td>N</td>\n",
       "      <td>1.0</td>\n",
       "      <td>Flat</td>\n",
       "      <td>1</td>\n",
       "    </tr>\n",
       "    <tr>\n",
       "      <th>2</th>\n",
       "      <td>37</td>\n",
       "      <td>M</td>\n",
       "      <td>ATA</td>\n",
       "      <td>130</td>\n",
       "      <td>283</td>\n",
       "      <td>0</td>\n",
       "      <td>ST</td>\n",
       "      <td>98</td>\n",
       "      <td>N</td>\n",
       "      <td>0.0</td>\n",
       "      <td>Up</td>\n",
       "      <td>0</td>\n",
       "    </tr>\n",
       "    <tr>\n",
       "      <th>3</th>\n",
       "      <td>48</td>\n",
       "      <td>F</td>\n",
       "      <td>ASY</td>\n",
       "      <td>138</td>\n",
       "      <td>214</td>\n",
       "      <td>0</td>\n",
       "      <td>Normal</td>\n",
       "      <td>108</td>\n",
       "      <td>Y</td>\n",
       "      <td>1.5</td>\n",
       "      <td>Flat</td>\n",
       "      <td>1</td>\n",
       "    </tr>\n",
       "    <tr>\n",
       "      <th>4</th>\n",
       "      <td>54</td>\n",
       "      <td>M</td>\n",
       "      <td>NAP</td>\n",
       "      <td>150</td>\n",
       "      <td>195</td>\n",
       "      <td>0</td>\n",
       "      <td>Normal</td>\n",
       "      <td>122</td>\n",
       "      <td>N</td>\n",
       "      <td>0.0</td>\n",
       "      <td>Up</td>\n",
       "      <td>0</td>\n",
       "    </tr>\n",
       "  </tbody>\n",
       "</table>\n",
       "</div>"
      ],
      "text/plain": [
       "   Age Sex ChestPainType  RestingBP  Cholesterol  FastingBS RestingECG  MaxHR  \\\n",
       "0   40   M           ATA        140          289          0     Normal    172   \n",
       "1   49   F           NAP        160          180          0     Normal    156   \n",
       "2   37   M           ATA        130          283          0         ST     98   \n",
       "3   48   F           ASY        138          214          0     Normal    108   \n",
       "4   54   M           NAP        150          195          0     Normal    122   \n",
       "\n",
       "  ExerciseAngina  Oldpeak ST_Slope  HeartDisease  \n",
       "0              N      0.0       Up             0  \n",
       "1              N      1.0     Flat             1  \n",
       "2              N      0.0       Up             0  \n",
       "3              Y      1.5     Flat             1  \n",
       "4              N      0.0       Up             0  "
      ]
     },
     "execution_count": 4,
     "metadata": {},
     "output_type": "execute_result"
    }
   ],
   "source": [
    "df.head()"
   ]
  },
  {
   "cell_type": "markdown",
   "metadata": {},
   "source": [
    "We must perform some data engineering before working with the models. There are 5 categorical features, so we will use Pandas to one-hot encode them."
   ]
  },
  {
   "cell_type": "markdown",
   "metadata": {},
   "source": [
    "## 2. One-hot encoding using Pandas\n",
    "\n",
    "First we will remove the binary variables, because one-hot encoding them would do nothing to them. To achieve this we will just count how many different values there are in each categorical variable and consider only the variables with 3 or more values."
   ]
  },
  {
   "cell_type": "code",
   "execution_count": 5,
   "metadata": {},
   "outputs": [],
   "source": [
    "cat_variables = ['Sex','ChestPainType','RestingECG','ExerciseAngina','ST_Slope']"
   ]
  },
  {
   "attachments": {},
   "cell_type": "markdown",
   "metadata": {},
   "source": [
    "one-hot encoding aims to transform a categorical variable with `n` outputs into `n` binary variables.\n",
    "\n",
    "Pandas has a built-in method to one-hot encode variables, it is the function `pd.get_dummies`.\n",
    "\n",
    " - data: DataFrame to be used\n",
    " - prefix: A list with prefixes, so we know which value we are dealing with\n",
    " - columns: the list of columns that will be one-hot encoded. 'prefix' and 'columns' must have the same length.\n",
    " "
   ]
  },
  {
   "cell_type": "code",
   "execution_count": 6,
   "metadata": {},
   "outputs": [],
   "source": [
    "# This will replace the columns with the one-hot encoded ones and keep the columns outside 'columns' argument as it is.\n",
    "df = pd.get_dummies(data = df,prefix = cat_variables,columns = cat_variables)"
   ]
  },
  {
   "cell_type": "code",
   "execution_count": 7,
   "metadata": {},
   "outputs": [
    {
     "data": {
      "text/html": [
       "<div>\n",
       "<style scoped>\n",
       "    .dataframe tbody tr th:only-of-type {\n",
       "        vertical-align: middle;\n",
       "    }\n",
       "\n",
       "    .dataframe tbody tr th {\n",
       "        vertical-align: top;\n",
       "    }\n",
       "\n",
       "    .dataframe thead th {\n",
       "        text-align: right;\n",
       "    }\n",
       "</style>\n",
       "<table border=\"1\" class=\"dataframe\">\n",
       "  <thead>\n",
       "    <tr style=\"text-align: right;\">\n",
       "      <th></th>\n",
       "      <th>Age</th>\n",
       "      <th>RestingBP</th>\n",
       "      <th>Cholesterol</th>\n",
       "      <th>FastingBS</th>\n",
       "      <th>MaxHR</th>\n",
       "      <th>Oldpeak</th>\n",
       "      <th>HeartDisease</th>\n",
       "      <th>Sex_F</th>\n",
       "      <th>Sex_M</th>\n",
       "      <th>ChestPainType_ASY</th>\n",
       "      <th>...</th>\n",
       "      <th>ChestPainType_NAP</th>\n",
       "      <th>ChestPainType_TA</th>\n",
       "      <th>RestingECG_LVH</th>\n",
       "      <th>RestingECG_Normal</th>\n",
       "      <th>RestingECG_ST</th>\n",
       "      <th>ExerciseAngina_N</th>\n",
       "      <th>ExerciseAngina_Y</th>\n",
       "      <th>ST_Slope_Down</th>\n",
       "      <th>ST_Slope_Flat</th>\n",
       "      <th>ST_Slope_Up</th>\n",
       "    </tr>\n",
       "  </thead>\n",
       "  <tbody>\n",
       "    <tr>\n",
       "      <th>0</th>\n",
       "      <td>40</td>\n",
       "      <td>140</td>\n",
       "      <td>289</td>\n",
       "      <td>0</td>\n",
       "      <td>172</td>\n",
       "      <td>0.0</td>\n",
       "      <td>0</td>\n",
       "      <td>0</td>\n",
       "      <td>1</td>\n",
       "      <td>0</td>\n",
       "      <td>...</td>\n",
       "      <td>0</td>\n",
       "      <td>0</td>\n",
       "      <td>0</td>\n",
       "      <td>1</td>\n",
       "      <td>0</td>\n",
       "      <td>1</td>\n",
       "      <td>0</td>\n",
       "      <td>0</td>\n",
       "      <td>0</td>\n",
       "      <td>1</td>\n",
       "    </tr>\n",
       "    <tr>\n",
       "      <th>1</th>\n",
       "      <td>49</td>\n",
       "      <td>160</td>\n",
       "      <td>180</td>\n",
       "      <td>0</td>\n",
       "      <td>156</td>\n",
       "      <td>1.0</td>\n",
       "      <td>1</td>\n",
       "      <td>1</td>\n",
       "      <td>0</td>\n",
       "      <td>0</td>\n",
       "      <td>...</td>\n",
       "      <td>1</td>\n",
       "      <td>0</td>\n",
       "      <td>0</td>\n",
       "      <td>1</td>\n",
       "      <td>0</td>\n",
       "      <td>1</td>\n",
       "      <td>0</td>\n",
       "      <td>0</td>\n",
       "      <td>1</td>\n",
       "      <td>0</td>\n",
       "    </tr>\n",
       "    <tr>\n",
       "      <th>2</th>\n",
       "      <td>37</td>\n",
       "      <td>130</td>\n",
       "      <td>283</td>\n",
       "      <td>0</td>\n",
       "      <td>98</td>\n",
       "      <td>0.0</td>\n",
       "      <td>0</td>\n",
       "      <td>0</td>\n",
       "      <td>1</td>\n",
       "      <td>0</td>\n",
       "      <td>...</td>\n",
       "      <td>0</td>\n",
       "      <td>0</td>\n",
       "      <td>0</td>\n",
       "      <td>0</td>\n",
       "      <td>1</td>\n",
       "      <td>1</td>\n",
       "      <td>0</td>\n",
       "      <td>0</td>\n",
       "      <td>0</td>\n",
       "      <td>1</td>\n",
       "    </tr>\n",
       "    <tr>\n",
       "      <th>3</th>\n",
       "      <td>48</td>\n",
       "      <td>138</td>\n",
       "      <td>214</td>\n",
       "      <td>0</td>\n",
       "      <td>108</td>\n",
       "      <td>1.5</td>\n",
       "      <td>1</td>\n",
       "      <td>1</td>\n",
       "      <td>0</td>\n",
       "      <td>1</td>\n",
       "      <td>...</td>\n",
       "      <td>0</td>\n",
       "      <td>0</td>\n",
       "      <td>0</td>\n",
       "      <td>1</td>\n",
       "      <td>0</td>\n",
       "      <td>0</td>\n",
       "      <td>1</td>\n",
       "      <td>0</td>\n",
       "      <td>1</td>\n",
       "      <td>0</td>\n",
       "    </tr>\n",
       "    <tr>\n",
       "      <th>4</th>\n",
       "      <td>54</td>\n",
       "      <td>150</td>\n",
       "      <td>195</td>\n",
       "      <td>0</td>\n",
       "      <td>122</td>\n",
       "      <td>0.0</td>\n",
       "      <td>0</td>\n",
       "      <td>0</td>\n",
       "      <td>1</td>\n",
       "      <td>0</td>\n",
       "      <td>...</td>\n",
       "      <td>1</td>\n",
       "      <td>0</td>\n",
       "      <td>0</td>\n",
       "      <td>1</td>\n",
       "      <td>0</td>\n",
       "      <td>1</td>\n",
       "      <td>0</td>\n",
       "      <td>0</td>\n",
       "      <td>0</td>\n",
       "      <td>1</td>\n",
       "    </tr>\n",
       "  </tbody>\n",
       "</table>\n",
       "<p>5 rows × 21 columns</p>\n",
       "</div>"
      ],
      "text/plain": [
       "   Age  RestingBP  Cholesterol  FastingBS  MaxHR  Oldpeak  HeartDisease  \\\n",
       "0   40        140          289          0    172      0.0             0   \n",
       "1   49        160          180          0    156      1.0             1   \n",
       "2   37        130          283          0     98      0.0             0   \n",
       "3   48        138          214          0    108      1.5             1   \n",
       "4   54        150          195          0    122      0.0             0   \n",
       "\n",
       "   Sex_F  Sex_M  ChestPainType_ASY  ...  ChestPainType_NAP  ChestPainType_TA  \\\n",
       "0      0      1                  0  ...                  0                 0   \n",
       "1      1      0                  0  ...                  1                 0   \n",
       "2      0      1                  0  ...                  0                 0   \n",
       "3      1      0                  1  ...                  0                 0   \n",
       "4      0      1                  0  ...                  1                 0   \n",
       "\n",
       "   RestingECG_LVH  RestingECG_Normal  RestingECG_ST  ExerciseAngina_N  \\\n",
       "0               0                  1              0                 1   \n",
       "1               0                  1              0                 1   \n",
       "2               0                  0              1                 1   \n",
       "3               0                  1              0                 0   \n",
       "4               0                  1              0                 1   \n",
       "\n",
       "   ExerciseAngina_Y  ST_Slope_Down  ST_Slope_Flat  ST_Slope_Up  \n",
       "0                 0              0              0            1  \n",
       "1                 0              0              1            0  \n",
       "2                 0              0              0            1  \n",
       "3                 1              0              1            0  \n",
       "4                 0              0              0            1  \n",
       "\n",
       "[5 rows x 21 columns]"
      ]
     },
     "execution_count": 7,
     "metadata": {},
     "output_type": "execute_result"
    }
   ],
   "source": [
    "df.head()"
   ]
  },
  {
   "cell_type": "markdown",
   "metadata": {},
   "source": [
    "Let's choose the variables that will be the input features of the model.\n",
    "- The target is `HeartDisease`.\n",
    "- All other variables are features that can potentially be used to predict the target, `HeartDisease`."
   ]
  },
  {
   "cell_type": "code",
   "execution_count": 8,
   "metadata": {},
   "outputs": [],
   "source": [
    "features = [x for x in df.columns if x not in 'HeartDisease'] ## Removing our target variable"
   ]
  },
  {
   "cell_type": "code",
   "execution_count": 9,
   "metadata": {},
   "outputs": [
    {
     "name": "stdout",
     "output_type": "stream",
     "text": [
      "20\n",
      "['Age', 'RestingBP', 'Cholesterol', 'FastingBS', 'MaxHR', 'Oldpeak', 'Sex_F', 'Sex_M', 'ChestPainType_ASY', 'ChestPainType_ATA', 'ChestPainType_NAP', 'ChestPainType_TA', 'RestingECG_LVH', 'RestingECG_Normal', 'RestingECG_ST', 'ExerciseAngina_N', 'ExerciseAngina_Y', 'ST_Slope_Down', 'ST_Slope_Flat', 'ST_Slope_Up']\n"
     ]
    }
   ],
   "source": [
    "print(len(features))\n",
    "print(features)"
   ]
  },
  {
   "attachments": {},
   "cell_type": "markdown",
   "metadata": {},
   "source": [
    "# 3. Splitting the Dataset\n",
    "\n",
    "In this section, we will split our dataset into train and test datasets. We will use the function `train_test_split` from Scikit-learn."
   ]
  },
  {
   "cell_type": "code",
   "execution_count": 10,
   "metadata": {},
   "outputs": [],
   "source": [
    "X_train, X_val, y_train, y_val = train_test_split(df[features],df[\"HeartDisease\"],random_state=RANDOM_STATE,train_size=0.8)"
   ]
  },
  {
   "cell_type": "code",
   "execution_count": 11,
   "metadata": {},
   "outputs": [
    {
     "name": "stdout",
     "output_type": "stream",
     "text": [
      "train samples: 734\n",
      "validation samples: 184\n",
      "target proportion: 0.5518\n",
      "(734,)\n",
      "(184,)\n",
      "(734, 20)\n",
      "(184, 20)\n"
     ]
    }
   ],
   "source": [
    "print(f'train samples: {len(X_train)}\\nvalidation samples: {len(X_val)}')\n",
    "print(f'target proportion: {sum(y_train)/len(y_train):.4f}')\n",
    "print(y_train.shape)\n",
    "print(y_val.shape)\n",
    "print(X_train.shape)\n",
    "print(X_val.shape)\n"
   ]
  },
  {
   "cell_type": "markdown",
   "metadata": {},
   "source": [
    "# 4. Building the Models\n",
    "\n"
   ]
  },
  {
   "cell_type": "code",
   "execution_count": 12,
   "metadata": {},
   "outputs": [],
   "source": [
    "# we will need it later for comparsing the accuracy \n",
    "accuracies = {}"
   ]
  },
  {
   "attachments": {},
   "cell_type": "markdown",
   "metadata": {},
   "source": [
    "## 4.1 Decision Tree\n",
    "\n",
    "In this section, let's work with the Decision Tree. [Scikit-learn implementation](https://scikit-learn.org/stable/modules/generated/sklearn.tree.DecisionTreeClassifier.html). \n",
    "\n",
    "\n",
    "The hyperparameters we will use and investigate here are:\n",
    "\n",
    " - min_samples_split: The minimum number of samples required to split an internal node. \n",
    "   - Choosing a higher min_samples_split can reduce the number of splits and may help to reduce overfitting.\n",
    " - max_depth: The maximum depth of the tree. \n",
    "   - Choosing a lower max_depth can reduce the number of splits and may help to reduce overfitting."
   ]
  },
  {
   "cell_type": "code",
   "execution_count": 13,
   "metadata": {},
   "outputs": [],
   "source": [
    "min_samples_split_list = [2,10, 30, 50, 100, 200, 300, 700] \n",
    "max_depth_list = [1,2, 3, 4, 8, 16, 32, 64, None] # None means that there is no depth limit."
   ]
  },
  {
   "cell_type": "code",
   "execution_count": 14,
   "metadata": {},
   "outputs": [
    {
     "data": {
      "text/plain": [
       "<matplotlib.legend.Legend at 0x12aff38dc40>"
      ]
     },
     "execution_count": 14,
     "metadata": {},
     "output_type": "execute_result"
    },
    {
     "data": {
      "image/png": "[encoded data removed]",
      "text/plain": [
       "<Figure size 640x480 with 1 Axes>"
      ]
     },
     "metadata": {},
     "output_type": "display_data"
    }
   ],
   "source": [
    "accuracy_list_train = []\n",
    "accuracy_list_val = []\n",
    "\n",
    "for min_samples_split in min_samples_split_list:\n",
    "    \n",
    "    # fit the model\n",
    "    model = DecisionTreeClassifier(min_samples_split=min_samples_split,random_state=RANDOM_STATE).fit(X_train,y_train)\n",
    "    \n",
    "    predictions_train = model.predict(X_train) ## The predicted values for the train dataset\n",
    "    predictions_val = model.predict(X_val) ## The predicted values for the test dataset\n",
    "    accuracy_train = accuracy_score(predictions_train,y_train)\n",
    "    accuracy_val = accuracy_score(predictions_val,y_val)\n",
    "    accuracy_list_train.append(accuracy_train)\n",
    "    accuracy_list_val.append(accuracy_val)\n",
    "\n",
    "plt.title('Train x Validation metrics')\n",
    "plt.xlabel(\"min_samples_split\")\n",
    "plt.ylabel('accuracy')\n",
    "plt.xticks(range(len(min_samples_split_list)),labels=min_samples_split_list)\n",
    "plt.plot(accuracy_list_train)\n",
    "plt.plot(accuracy_list_val)\n",
    "plt.legend(['Train','Validation'])\n"
   ]
  },
  {
   "cell_type": "markdown",
   "metadata": {},
   "source": [
    "Note how increasing the the number of `min_samples_split` reduces overfitting.\n",
    "- Increasing `min_samples_split` from 10 to 30, and from 30 to 50, even though it does not improve the validation accuracy, it brings the training accuracy closer to it, showing a reduction in overfitting.\n",
    "\n",
    "Let's do the same experiment with `max_depth`."
   ]
  },
  {
   "cell_type": "code",
   "execution_count": 16,
   "metadata": {},
   "outputs": [
    {
     "data": {
      "text/plain": [
       "<matplotlib.legend.Legend at 0x12a801d9970>"
      ]
     },
     "execution_count": 16,
     "metadata": {},
     "output_type": "execute_result"
    },
    {
     "data": {
      "image/png": "[encoded data removed]",
      "text/plain": [
       "<Figure size 640x480 with 1 Axes>"
      ]
     },
     "metadata": {},
     "output_type": "display_data"
    }
   ],
   "source": [
    "accuracy_list_train = []\n",
    "accuracy_list_val = []\n",
    "\n",
    "for max_depth in max_depth_list:\n",
    "    \n",
    "    # fit the model \n",
    "    model = DecisionTreeClassifier(max_depth = max_depth,random_state = RANDOM_STATE).fit(X_train,y_train) \n",
    "    \n",
    "    predictions_train = model.predict(X_train) ## The predicted values for the train dataset\n",
    "    predictions_val = model.predict(X_val) ## The predicted values for the test dataset\n",
    "    accuracy_train = accuracy_score(predictions_train,y_train)\n",
    "    accuracy_val = accuracy_score(predictions_val,y_val)\n",
    "    accuracy_list_train.append(accuracy_train)\n",
    "    accuracy_list_val.append(accuracy_val)\n",
    "\n",
    "plt.title('Train x Validation metrics')\n",
    "plt.xlabel('max_depth')\n",
    "plt.ylabel('accuracy')\n",
    "plt.xticks(ticks = range(len(max_depth_list )),labels=max_depth_list)\n",
    "plt.plot(accuracy_list_train)\n",
    "plt.plot(accuracy_list_val)\n",
    "plt.legend(['Train','Validation'])"
   ]
  },
  {
   "cell_type": "markdown",
   "metadata": {},
   "source": [
    "We can see that in general, reducing `max_depth` can help to reduce overfitting.\n",
    "- Reducing `max_depth` from 8 to 4 increases validation accuracy closer to training accuracy, while significantly reducing training accuracy.\n",
    "- The validation accuracy reaches the highest at tree_depth=4. \n",
    "- When the `max_depth` is smaller than 3, both training and validation accuracy decreases.  The tree cannot make enough splits to distinguish positives from negatives (the model is underfitting the training set). \n",
    "- When the `max_depth` is too high ( >= 5), validation accuracy decreases while training accuracy increases, indicating that the model is overfitting to the training set.\n",
    "\n",
    "So we can choose the best values for these two hyper-parameters for our model to be:\n",
    "- `max_depth = 4`\n",
    "- `min_samples_split = 50` "
   ]
  },
  {
   "cell_type": "code",
   "execution_count": 17,
   "metadata": {},
   "outputs": [],
   "source": [
    "decision_tree_model = DecisionTreeClassifier(min_samples_split = 50,\n",
    "                                             max_depth = 3,\n",
    "                                             random_state = RANDOM_STATE).fit(X_train,y_train)"
   ]
  },
  {
   "cell_type": "code",
   "execution_count": 18,
   "metadata": {},
   "outputs": [
    {
     "name": "stdout",
     "output_type": "stream",
     "text": [
      "Metrics train:\n",
      "\tAccuracy score: 0.8583\n",
      "Metrics validation:\n",
      "\tAccuracy score: 0.8641\n"
     ]
    }
   ],
   "source": [
    "print(f\"Metrics train:\\n\\tAccuracy score: {accuracy_score(decision_tree_model.predict(X_train),y_train):.4f}\")\n",
    "print(f\"Metrics validation:\\n\\tAccuracy score: {accuracy_score(decision_tree_model.predict(X_val),y_val):.4f}\")"
   ]
  },
  {
   "cell_type": "code",
   "execution_count": 19,
   "metadata": {},
   "outputs": [],
   "source": [
    "accuracies[\"Decision Tree\"] = 0.864"
   ]
  },
  {
   "cell_type": "markdown",
   "metadata": {},
   "source": [
    "No sign of overfitting (they are colse to other), even though the metrics are not that good."
   ]
  },
  {
   "attachments": {},
   "cell_type": "markdown",
   "metadata": {},
   "source": [
    "## 4.2 Random Forest\n",
    "\n",
    "Now let's try the Random Forest algorithm also, using the Scikit-learn implementation. \n",
    "- All of the hyperparameters found in the decision tree model will also exist in this algorithm, since a random forest is an ensemble of many Decision Trees.\n",
    "- One additional hyperparameter for Random Forest is called `n_estimators` which is the number of Decision Trees that make up the Random Forest. \n",
    "\n",
    "\n",
    "We will run the same script again, but with another parameter, `n_estimators`, where we will choose between 10, 50, and 100. The default is 100."
   ]
  },
  {
   "cell_type": "code",
   "execution_count": 20,
   "metadata": {},
   "outputs": [],
   "source": [
    "min_samples_split_list = [2,10, 30, 50, 100, 200, 300, 700] \n",
    "max_depth_list = [2, 4, 8, 16, 32, 64, None]\n",
    "n_estimators_list = [10,50,100,500]"
   ]
  },
  {
   "cell_type": "code",
   "execution_count": 21,
   "metadata": {},
   "outputs": [
    {
     "data": {
      "text/plain": [
       "<matplotlib.legend.Legend at 0x12a8053d100>"
      ]
     },
     "execution_count": 21,
     "metadata": {},
     "output_type": "execute_result"
    },
    {
     "data": {
      "image/png": "[encoded data removed]",
      "text/plain": [
       "<Figure size 640x480 with 1 Axes>"
      ]
     },
     "metadata": {},
     "output_type": "display_data"
    }
   ],
   "source": [
    "accuracy_list_train = []\n",
    "accuracy_list_val = []\n",
    "\n",
    "for min_samples_split in min_samples_split_list:\n",
    "    \n",
    "    # fit the model \n",
    "    model = RandomForestClassifier(min_samples_split = min_samples_split,random_state = RANDOM_STATE).fit(X_train,y_train) \n",
    "    \n",
    "    predictions_train = model.predict(X_train) ## The predicted values for the train dataset\n",
    "    predictions_val = model.predict(X_val) ## The predicted values for the test dataset\n",
    "    accuracy_train = accuracy_score(predictions_train,y_train)\n",
    "    accuracy_val = accuracy_score(predictions_val,y_val)\n",
    "    accuracy_list_train.append(accuracy_train)\n",
    "    accuracy_list_val.append(accuracy_val)\n",
    "\n",
    "plt.title('Train x Validation metrics')\n",
    "plt.xlabel('min_samples_split')\n",
    "plt.ylabel('accuracy')\n",
    "plt.xticks(ticks = range(len(min_samples_split_list )),labels=min_samples_split_list) \n",
    "plt.plot(accuracy_list_train)\n",
    "plt.plot(accuracy_list_val)\n",
    "plt.legend(['Train','Validation'])"
   ]
  },
  {
   "cell_type": "markdown",
   "metadata": {},
   "source": [
    "Notice that, even though the validation accuraty reaches is the same both at `min_samples_split = 2` and `min_samples_split = 10`, in the latter the difference in training and validation set reduces, showing less overfitting."
   ]
  },
  {
   "cell_type": "code",
   "execution_count": 22,
   "metadata": {},
   "outputs": [
    {
     "data": {
      "text/plain": [
       "<matplotlib.legend.Legend at 0x12a806cadc0>"
      ]
     },
     "execution_count": 22,
     "metadata": {},
     "output_type": "execute_result"
    },
    {
     "data": {
      "image/png": "[encoded data removed]",
      "text/plain": [
       "<Figure size 640x480 with 1 Axes>"
      ]
     },
     "metadata": {},
     "output_type": "display_data"
    }
   ],
   "source": [
    "accuracy_list_train = []\n",
    "accuracy_list_val = []\n",
    "\n",
    "for max_depth in max_depth_list:\n",
    "    \n",
    "    # fit the model\n",
    "    model = RandomForestClassifier(max_depth = max_depth,random_state = RANDOM_STATE).fit(X_train,y_train) \n",
    "    \n",
    "    predictions_train = model.predict(X_train) ## The predicted values for the train dataset\n",
    "    predictions_val = model.predict(X_val) ## The predicted values for the test dataset\n",
    "    accuracy_train = accuracy_score(predictions_train,y_train)\n",
    "    accuracy_val = accuracy_score(predictions_val,y_val)\n",
    "    accuracy_list_train.append(accuracy_train)\n",
    "    accuracy_list_val.append(accuracy_val)\n",
    "\n",
    "plt.title('Train x Validation metrics')\n",
    "plt.xlabel('max_depth')\n",
    "plt.ylabel('accuracy')\n",
    "plt.xticks(ticks = range(len(max_depth_list )),labels=max_depth_list)\n",
    "plt.plot(accuracy_list_train)\n",
    "plt.plot(accuracy_list_val)\n",
    "plt.legend(['Train','Validation'])"
   ]
  },
  {
   "cell_type": "code",
   "execution_count": 23,
   "metadata": {},
   "outputs": [
    {
     "data": {
      "text/plain": [
       "<matplotlib.legend.Legend at 0x12a805c3e50>"
      ]
     },
     "execution_count": 23,
     "metadata": {},
     "output_type": "execute_result"
    },
    {
     "data": {
      "image/png": "[encoded data removed]",
      "text/plain": [
       "<Figure size 640x480 with 1 Axes>"
      ]
     },
     "metadata": {},
     "output_type": "display_data"
    }
   ],
   "source": [
    "accuracy_list_train = []\n",
    "accuracy_list_val = []\n",
    "\n",
    "for n_estimators in n_estimators_list:\n",
    "    \n",
    "    # fit the model\n",
    "    model = RandomForestClassifier(n_estimators = n_estimators,random_state = RANDOM_STATE).fit(X_train,y_train) \n",
    "    \n",
    "    predictions_train = model.predict(X_train) ## The predicted values for the train dataset\n",
    "    predictions_val = model.predict(X_val) ## The predicted values for the test dataset\n",
    "    accuracy_train = accuracy_score(predictions_train,y_train)\n",
    "    accuracy_val = accuracy_score(predictions_val,y_val)\n",
    "    accuracy_list_train.append(accuracy_train)\n",
    "    accuracy_list_val.append(accuracy_val)\n",
    "\n",
    "plt.title('Train x Validation metrics')\n",
    "plt.xlabel('n_estimators')\n",
    "plt.ylabel('accuracy')\n",
    "plt.xticks(ticks = range(len(n_estimators_list )),labels=n_estimators_list)\n",
    "plt.plot(accuracy_list_train)\n",
    "plt.plot(accuracy_list_val)\n",
    "plt.legend(['Train','Validation'])"
   ]
  },
  {
   "cell_type": "markdown",
   "metadata": {},
   "source": [
    "Let's then fit a random forest with the following parameters:\n",
    "\n",
    " - max_depth: 16\n",
    " - min_samples_split: 10\n",
    " - n_estimators: 100"
   ]
  },
  {
   "cell_type": "code",
   "execution_count": 24,
   "metadata": {},
   "outputs": [],
   "source": [
    "random_forest_model = RandomForestClassifier(n_estimators = 100,\n",
    "                                             max_depth = 16, \n",
    "                                             min_samples_split = 10).fit(X_train,y_train)"
   ]
  },
  {
   "cell_type": "code",
   "execution_count": 25,
   "metadata": {},
   "outputs": [],
   "source": [
    "accuracy_train = accuracy_score(random_forest_model.predict(X_train),y_train)\n",
    "accuracy_val = accuracy_score(random_forest_model.predict(X_val),y_val)"
   ]
  },
  {
   "cell_type": "code",
   "execution_count": 26,
   "metadata": {},
   "outputs": [
    {
     "name": "stdout",
     "output_type": "stream",
     "text": [
      "Metrics train:\n",
      "\tAccuracy score: 0.9332\n",
      "Metrics test:\n",
      "\tAccuracy score: 0.8913\n"
     ]
    }
   ],
   "source": [
    "print(f\"Metrics train:\\n\\tAccuracy score: {accuracy_train:.4f}\\nMetrics test:\\n\\tAccuracy score: {accuracy_val:.4f}\")"
   ]
  },
  {
   "cell_type": "code",
   "execution_count": 27,
   "metadata": {},
   "outputs": [],
   "source": [
    "accuracies[\"Random Forest\"] = 0.891"
   ]
  },
  {
   "attachments": {},
   "cell_type": "markdown",
   "metadata": {},
   "source": [
    "## 4.3 XGBoost\n",
    "\n",
    "Next is the Gradient Boosting model, called XGBoost. The boosting methods train several trees, but instead of them being uncorrelated to each other, now the trees are fit one after the other in order to minimize the error. \n",
    "\n",
    "The model has the same parameters as a decision tree, plus the learning rate.\n",
    "- The learning rate is the size of the step on the Gradient Descent method that the XGBoost uses internally to minimize the error on each train step.\n"
   ]
  },
  {
   "cell_type": "code",
   "execution_count": 97,
   "metadata": {},
   "outputs": [],
   "source": [
    "X_train_fit, X_train_eval, y_train_fit, y_train_eval = train_test_split(df[features],df[\"HeartDisease\"],train_size=0.80,random_state=RANDOM_STATE)"
   ]
  },
  {
   "cell_type": "markdown",
   "metadata": {},
   "source": [
    "We can then set a large number of estimators, because we can stop if the cost function stops decreasing."
   ]
  },
  {
   "attachments": {},
   "cell_type": "markdown",
   "metadata": {},
   "source": [
    "Note some of the `.fit()` parameters:\n",
    "- `early_stopping_rounds`: This parameter helps to stop the model training if its evaluation metric is no longer improving on the validation set. It's set to 400.\n",
    "  - The model keeps track of the round with the best performance (lowest evaluation metric).  For example, say we set it to 10 and say that round 16 has the lowest evaluation metric so far.\n",
    "  - Each successive round's evaluation metric is compared to the best metric.  If the model goes 10 rounds where none have a better metric than the best one, then the model stops training.\n",
    "  - The model is returned at its last state when training terminated, not its state during the best round.  For example, if the model stops at round 26, but the best round was 16, the model's training state at round 26 is returned, not round 16.\n"
   ]
  },
  {
   "cell_type": "code",
   "execution_count": 98,
   "metadata": {},
   "outputs": [
    {
     "name": "stdout",
     "output_type": "stream",
     "text": [
      "[0]\tvalidation_0-logloss:0.63451\n",
      "[1]\tvalidation_0-logloss:0.59095\n",
      "[2]\tvalidation_0-logloss:0.55279\n",
      "[3]\tvalidation_0-logloss:0.51590\n",
      "[4]\tvalidation_0-logloss:0.48913\n",
      "[5]\tvalidation_0-logloss:0.46744\n",
      "[6]\tvalidation_0-logloss:0.44373\n",
      "[7]\tvalidation_0-logloss:0.42828\n",
      "[8]\tvalidation_0-logloss:0.41506\n",
      "[9]\tvalidation_0-logloss:0.39946\n",
      "[10]\tvalidation_0-logloss:0.38666\n",
      "[11]\tvalidation_0-logloss:0.37622\n",
      "[12]\tvalidation_0-logloss:0.36495\n",
      "[13]\tvalidation_0-logloss:0.35678\n",
      "[14]\tvalidation_0-logloss:0.35008\n",
      "[15]\tvalidation_0-logloss:0.34255\n",
      "[16]\tvalidation_0-logloss:0.33616\n",
      "[17]\tvalidation_0-logloss:0.33280\n",
      "[18]\tvalidation_0-logloss:0.32697\n",
      "[19]\tvalidation_0-logloss:0.32219\n",
      "[20]\tvalidation_0-logloss:0.31993\n",
      "[21]\tvalidation_0-logloss:0.31900\n",
      "[22]\tvalidation_0-logloss:0.31770\n",
      "[23]\tvalidation_0-logloss:0.31399\n",
      "[24]\tvalidation_0-logloss:0.31462\n",
      "[25]\tvalidation_0-logloss:0.31491\n",
      "[26]\tvalidation_0-logloss:0.31112\n",
      "[27]\tvalidation_0-logloss:0.31083\n",
      "[28]\tvalidation_0-logloss:0.31014\n",
      "[29]\tvalidation_0-logloss:0.30977\n",
      "[30]\tvalidation_0-logloss:0.31011\n",
      "[31]\tvalidation_0-logloss:0.30928\n"
     ]
    },
    {
     "name": "stderr",
     "output_type": "stream",
     "text": [
      "c:\\Users\\M4TECH\\anaconda3\\lib\\site-packages\\xgboost\\sklearn.py:835: UserWarning: `early_stopping_rounds` in `fit` method is deprecated for better compatibility with scikit-learn, use `early_stopping_rounds` in constructor or`set_params` instead.\n",
      "  warnings.warn(\n"
     ]
    },
    {
     "name": "stdout",
     "output_type": "stream",
     "text": [
      "[32]\tvalidation_0-logloss:0.30889\n",
      "[33]\tvalidation_0-logloss:0.30896\n",
      "[34]\tvalidation_0-logloss:0.30933\n",
      "[35]\tvalidation_0-logloss:0.30799\n",
      "[36]\tvalidation_0-logloss:0.30884\n",
      "[37]\tvalidation_0-logloss:0.30882\n",
      "[38]\tvalidation_0-logloss:0.31015\n",
      "[39]\tvalidation_0-logloss:0.31086\n",
      "[40]\tvalidation_0-logloss:0.31074\n",
      "[41]\tvalidation_0-logloss:0.31153\n",
      "[42]\tvalidation_0-logloss:0.31247\n",
      "[43]\tvalidation_0-logloss:0.31202\n",
      "[44]\tvalidation_0-logloss:0.31138\n",
      "[45]\tvalidation_0-logloss:0.31356\n",
      "[46]\tvalidation_0-logloss:0.31474\n",
      "[47]\tvalidation_0-logloss:0.31560\n",
      "[48]\tvalidation_0-logloss:0.31627\n",
      "[49]\tvalidation_0-logloss:0.31483\n",
      "[50]\tvalidation_0-logloss:0.31405\n",
      "[51]\tvalidation_0-logloss:0.31380\n",
      "[52]\tvalidation_0-logloss:0.31424\n",
      "[53]\tvalidation_0-logloss:0.31242\n",
      "[54]\tvalidation_0-logloss:0.31304\n",
      "[55]\tvalidation_0-logloss:0.31363\n",
      "[56]\tvalidation_0-logloss:0.31396\n",
      "[57]\tvalidation_0-logloss:0.31455\n",
      "[58]\tvalidation_0-logloss:0.31568\n",
      "[59]\tvalidation_0-logloss:0.31538\n",
      "[60]\tvalidation_0-logloss:0.31496\n",
      "[61]\tvalidation_0-logloss:0.31440\n",
      "[62]\tvalidation_0-logloss:0.31470\n",
      "[63]\tvalidation_0-logloss:0.31551\n",
      "[64]\tvalidation_0-logloss:0.31461\n",
      "[65]\tvalidation_0-logloss:0.31569\n",
      "[66]\tvalidation_0-logloss:0.31565\n",
      "[67]\tvalidation_0-logloss:0.31704\n",
      "[68]\tvalidation_0-logloss:0.31738\n",
      "[69]\tvalidation_0-logloss:0.31713\n",
      "[70]\tvalidation_0-logloss:0.31837\n",
      "[71]\tvalidation_0-logloss:0.31948\n",
      "[72]\tvalidation_0-logloss:0.32038\n",
      "[73]\tvalidation_0-logloss:0.32068\n",
      "[74]\tvalidation_0-logloss:0.32114\n",
      "[75]\tvalidation_0-logloss:0.32083\n",
      "[76]\tvalidation_0-logloss:0.32181\n",
      "[77]\tvalidation_0-logloss:0.32293\n",
      "[78]\tvalidation_0-logloss:0.32413\n",
      "[79]\tvalidation_0-logloss:0.32453\n",
      "[80]\tvalidation_0-logloss:0.32448\n",
      "[81]\tvalidation_0-logloss:0.32538\n",
      "[82]\tvalidation_0-logloss:0.32570\n",
      "[83]\tvalidation_0-logloss:0.32604\n",
      "[84]\tvalidation_0-logloss:0.32726\n",
      "[85]\tvalidation_0-logloss:0.32726\n",
      "[86]\tvalidation_0-logloss:0.32769\n",
      "[87]\tvalidation_0-logloss:0.32865\n",
      "[88]\tvalidation_0-logloss:0.33007\n",
      "[89]\tvalidation_0-logloss:0.33083\n",
      "[90]\tvalidation_0-logloss:0.33217\n",
      "[91]\tvalidation_0-logloss:0.33377\n",
      "[92]\tvalidation_0-logloss:0.33414\n",
      "[93]\tvalidation_0-logloss:0.33388\n",
      "[94]\tvalidation_0-logloss:0.33437\n",
      "[95]\tvalidation_0-logloss:0.33451\n",
      "[96]\tvalidation_0-logloss:0.33422\n",
      "[97]\tvalidation_0-logloss:0.33637\n",
      "[98]\tvalidation_0-logloss:0.33739\n",
      "[99]\tvalidation_0-logloss:0.33703\n",
      "[100]\tvalidation_0-logloss:0.33760\n",
      "[101]\tvalidation_0-logloss:0.33725\n",
      "[102]\tvalidation_0-logloss:0.33763\n",
      "[103]\tvalidation_0-logloss:0.33882\n",
      "[104]\tvalidation_0-logloss:0.34031\n",
      "[105]\tvalidation_0-logloss:0.34139\n",
      "[106]\tvalidation_0-logloss:0.34194\n",
      "[107]\tvalidation_0-logloss:0.34192\n",
      "[108]\tvalidation_0-logloss:0.34333\n",
      "[109]\tvalidation_0-logloss:0.34398\n",
      "[110]\tvalidation_0-logloss:0.34465\n",
      "[111]\tvalidation_0-logloss:0.34451\n",
      "[112]\tvalidation_0-logloss:0.34501\n",
      "[113]\tvalidation_0-logloss:0.34545\n",
      "[114]\tvalidation_0-logloss:0.34697\n",
      "[115]\tvalidation_0-logloss:0.34791\n",
      "[116]\tvalidation_0-logloss:0.34870\n",
      "[117]\tvalidation_0-logloss:0.34886\n",
      "[118]\tvalidation_0-logloss:0.34935\n",
      "[119]\tvalidation_0-logloss:0.35066\n",
      "[120]\tvalidation_0-logloss:0.35241\n",
      "[121]\tvalidation_0-logloss:0.35312\n",
      "[122]\tvalidation_0-logloss:0.35391\n",
      "[123]\tvalidation_0-logloss:0.35402\n",
      "[124]\tvalidation_0-logloss:0.35391\n",
      "[125]\tvalidation_0-logloss:0.35528\n",
      "[126]\tvalidation_0-logloss:0.35703\n",
      "[127]\tvalidation_0-logloss:0.35821\n",
      "[128]\tvalidation_0-logloss:0.35949\n",
      "[129]\tvalidation_0-logloss:0.35962\n",
      "[130]\tvalidation_0-logloss:0.36066\n",
      "[131]\tvalidation_0-logloss:0.36119\n",
      "[132]\tvalidation_0-logloss:0.36149\n",
      "[133]\tvalidation_0-logloss:0.36146\n",
      "[134]\tvalidation_0-logloss:0.36159\n",
      "[135]\tvalidation_0-logloss:0.36239\n",
      "[136]\tvalidation_0-logloss:0.36301\n",
      "[137]\tvalidation_0-logloss:0.36280\n",
      "[138]\tvalidation_0-logloss:0.36338\n",
      "[139]\tvalidation_0-logloss:0.36351\n",
      "[140]\tvalidation_0-logloss:0.36444\n",
      "[141]\tvalidation_0-logloss:0.36522\n",
      "[142]\tvalidation_0-logloss:0.36506\n",
      "[143]\tvalidation_0-logloss:0.36570\n",
      "[144]\tvalidation_0-logloss:0.36519\n",
      "[145]\tvalidation_0-logloss:0.36475\n",
      "[146]\tvalidation_0-logloss:0.36550\n",
      "[147]\tvalidation_0-logloss:0.36591\n",
      "[148]\tvalidation_0-logloss:0.36662\n",
      "[149]\tvalidation_0-logloss:0.36693\n",
      "[150]\tvalidation_0-logloss:0.36870\n",
      "[151]\tvalidation_0-logloss:0.36830\n",
      "[152]\tvalidation_0-logloss:0.36903\n",
      "[153]\tvalidation_0-logloss:0.36958\n",
      "[154]\tvalidation_0-logloss:0.36953\n",
      "[155]\tvalidation_0-logloss:0.36920\n",
      "[156]\tvalidation_0-logloss:0.37060\n",
      "[157]\tvalidation_0-logloss:0.37028\n",
      "[158]\tvalidation_0-logloss:0.37159\n",
      "[159]\tvalidation_0-logloss:0.37231\n",
      "[160]\tvalidation_0-logloss:0.37222\n",
      "[161]\tvalidation_0-logloss:0.37326\n",
      "[162]\tvalidation_0-logloss:0.37354\n",
      "[163]\tvalidation_0-logloss:0.37347\n",
      "[164]\tvalidation_0-logloss:0.37429\n",
      "[165]\tvalidation_0-logloss:0.37527\n",
      "[166]\tvalidation_0-logloss:0.37583\n",
      "[167]\tvalidation_0-logloss:0.37590\n",
      "[168]\tvalidation_0-logloss:0.37612\n",
      "[169]\tvalidation_0-logloss:0.37635\n",
      "[170]\tvalidation_0-logloss:0.37729\n",
      "[171]\tvalidation_0-logloss:0.37765\n",
      "[172]\tvalidation_0-logloss:0.37807\n",
      "[173]\tvalidation_0-logloss:0.37924\n",
      "[174]\tvalidation_0-logloss:0.38003\n",
      "[175]\tvalidation_0-logloss:0.38028\n",
      "[176]\tvalidation_0-logloss:0.38130\n",
      "[177]\tvalidation_0-logloss:0.38142\n",
      "[178]\tvalidation_0-logloss:0.38238\n",
      "[179]\tvalidation_0-logloss:0.38292\n",
      "[180]\tvalidation_0-logloss:0.38315\n",
      "[181]\tvalidation_0-logloss:0.38381\n",
      "[182]\tvalidation_0-logloss:0.38463\n",
      "[183]\tvalidation_0-logloss:0.38458\n",
      "[184]\tvalidation_0-logloss:0.38587\n",
      "[185]\tvalidation_0-logloss:0.38593\n",
      "[186]\tvalidation_0-logloss:0.38645\n",
      "[187]\tvalidation_0-logloss:0.38794\n",
      "[188]\tvalidation_0-logloss:0.38809\n",
      "[189]\tvalidation_0-logloss:0.38887\n",
      "[190]\tvalidation_0-logloss:0.38873\n",
      "[191]\tvalidation_0-logloss:0.38892\n",
      "[192]\tvalidation_0-logloss:0.38889\n",
      "[193]\tvalidation_0-logloss:0.38949\n",
      "[194]\tvalidation_0-logloss:0.38935\n",
      "[195]\tvalidation_0-logloss:0.39076\n",
      "[196]\tvalidation_0-logloss:0.39153\n",
      "[197]\tvalidation_0-logloss:0.39196\n",
      "[198]\tvalidation_0-logloss:0.39207\n",
      "[199]\tvalidation_0-logloss:0.39223\n",
      "[200]\tvalidation_0-logloss:0.39254\n",
      "[201]\tvalidation_0-logloss:0.39271\n",
      "[202]\tvalidation_0-logloss:0.39364\n",
      "[203]\tvalidation_0-logloss:0.39401\n",
      "[204]\tvalidation_0-logloss:0.39459\n",
      "[205]\tvalidation_0-logloss:0.39585\n",
      "[206]\tvalidation_0-logloss:0.39578\n",
      "[207]\tvalidation_0-logloss:0.39550\n",
      "[208]\tvalidation_0-logloss:0.39565\n",
      "[209]\tvalidation_0-logloss:0.39604\n",
      "[210]\tvalidation_0-logloss:0.39691\n",
      "[211]\tvalidation_0-logloss:0.39774\n",
      "[212]\tvalidation_0-logloss:0.39828\n",
      "[213]\tvalidation_0-logloss:0.39827\n",
      "[214]\tvalidation_0-logloss:0.39854\n",
      "[215]\tvalidation_0-logloss:0.39897\n",
      "[216]\tvalidation_0-logloss:0.39957\n",
      "[217]\tvalidation_0-logloss:0.39995\n",
      "[218]\tvalidation_0-logloss:0.40080\n",
      "[219]\tvalidation_0-logloss:0.40134\n",
      "[220]\tvalidation_0-logloss:0.40141\n",
      "[221]\tvalidation_0-logloss:0.40168\n",
      "[222]\tvalidation_0-logloss:0.40160\n",
      "[223]\tvalidation_0-logloss:0.40189\n",
      "[224]\tvalidation_0-logloss:0.40210\n",
      "[225]\tvalidation_0-logloss:0.40254\n",
      "[226]\tvalidation_0-logloss:0.40247\n",
      "[227]\tvalidation_0-logloss:0.40271\n",
      "[228]\tvalidation_0-logloss:0.40352\n",
      "[229]\tvalidation_0-logloss:0.40308\n",
      "[230]\tvalidation_0-logloss:0.40331\n",
      "[231]\tvalidation_0-logloss:0.40419\n",
      "[232]\tvalidation_0-logloss:0.40455\n",
      "[233]\tvalidation_0-logloss:0.40468\n",
      "[234]\tvalidation_0-logloss:0.40469\n",
      "[235]\tvalidation_0-logloss:0.40565\n",
      "[236]\tvalidation_0-logloss:0.40626\n",
      "[237]\tvalidation_0-logloss:0.40618\n",
      "[238]\tvalidation_0-logloss:0.40656\n",
      "[239]\tvalidation_0-logloss:0.40731\n",
      "[240]\tvalidation_0-logloss:0.40800\n",
      "[241]\tvalidation_0-logloss:0.40818\n",
      "[242]\tvalidation_0-logloss:0.40833\n",
      "[243]\tvalidation_0-logloss:0.40852\n",
      "[244]\tvalidation_0-logloss:0.40879\n",
      "[245]\tvalidation_0-logloss:0.40930\n",
      "[246]\tvalidation_0-logloss:0.40999\n",
      "[247]\tvalidation_0-logloss:0.41030\n",
      "[248]\tvalidation_0-logloss:0.41071\n",
      "[249]\tvalidation_0-logloss:0.41083\n",
      "[250]\tvalidation_0-logloss:0.41138\n",
      "[251]\tvalidation_0-logloss:0.41170\n",
      "[252]\tvalidation_0-logloss:0.41223\n",
      "[253]\tvalidation_0-logloss:0.41257\n",
      "[254]\tvalidation_0-logloss:0.41248\n",
      "[255]\tvalidation_0-logloss:0.41219\n",
      "[256]\tvalidation_0-logloss:0.41232\n",
      "[257]\tvalidation_0-logloss:0.41298\n",
      "[258]\tvalidation_0-logloss:0.41361\n",
      "[259]\tvalidation_0-logloss:0.41351\n",
      "[260]\tvalidation_0-logloss:0.41351\n",
      "[261]\tvalidation_0-logloss:0.41363\n",
      "[262]\tvalidation_0-logloss:0.41355\n",
      "[263]\tvalidation_0-logloss:0.41359\n",
      "[264]\tvalidation_0-logloss:0.41435\n",
      "[265]\tvalidation_0-logloss:0.41457\n",
      "[266]\tvalidation_0-logloss:0.41536\n",
      "[267]\tvalidation_0-logloss:0.41570\n",
      "[268]\tvalidation_0-logloss:0.41610\n",
      "[269]\tvalidation_0-logloss:0.41654\n",
      "[270]\tvalidation_0-logloss:0.41698\n",
      "[271]\tvalidation_0-logloss:0.41693\n",
      "[272]\tvalidation_0-logloss:0.41767\n",
      "[273]\tvalidation_0-logloss:0.41782\n",
      "[274]\tvalidation_0-logloss:0.41798\n",
      "[275]\tvalidation_0-logloss:0.41863\n",
      "[276]\tvalidation_0-logloss:0.41836\n",
      "[277]\tvalidation_0-logloss:0.41922\n",
      "[278]\tvalidation_0-logloss:0.41934\n",
      "[279]\tvalidation_0-logloss:0.42007\n",
      "[280]\tvalidation_0-logloss:0.42036\n",
      "[281]\tvalidation_0-logloss:0.42089\n",
      "[282]\tvalidation_0-logloss:0.42077\n",
      "[283]\tvalidation_0-logloss:0.42121\n",
      "[284]\tvalidation_0-logloss:0.42093\n",
      "[285]\tvalidation_0-logloss:0.42117\n",
      "[286]\tvalidation_0-logloss:0.42162\n",
      "[287]\tvalidation_0-logloss:0.42188\n",
      "[288]\tvalidation_0-logloss:0.42179\n",
      "[289]\tvalidation_0-logloss:0.42184\n",
      "[290]\tvalidation_0-logloss:0.42246\n",
      "[291]\tvalidation_0-logloss:0.42296\n",
      "[292]\tvalidation_0-logloss:0.42345\n",
      "[293]\tvalidation_0-logloss:0.42306\n",
      "[294]\tvalidation_0-logloss:0.42272\n",
      "[295]\tvalidation_0-logloss:0.42327\n",
      "[296]\tvalidation_0-logloss:0.42334\n",
      "[297]\tvalidation_0-logloss:0.42310\n",
      "[298]\tvalidation_0-logloss:0.42334\n",
      "[299]\tvalidation_0-logloss:0.42373\n",
      "[300]\tvalidation_0-logloss:0.42404\n",
      "[301]\tvalidation_0-logloss:0.42397\n",
      "[302]\tvalidation_0-logloss:0.42425\n",
      "[303]\tvalidation_0-logloss:0.42420\n",
      "[304]\tvalidation_0-logloss:0.42462\n",
      "[305]\tvalidation_0-logloss:0.42521\n",
      "[306]\tvalidation_0-logloss:0.42533\n",
      "[307]\tvalidation_0-logloss:0.42518\n",
      "[308]\tvalidation_0-logloss:0.42542\n",
      "[309]\tvalidation_0-logloss:0.42559\n",
      "[310]\tvalidation_0-logloss:0.42521\n",
      "[311]\tvalidation_0-logloss:0.42519\n",
      "[312]\tvalidation_0-logloss:0.42551\n",
      "[313]\tvalidation_0-logloss:0.42602\n",
      "[314]\tvalidation_0-logloss:0.42627\n",
      "[315]\tvalidation_0-logloss:0.42587\n",
      "[316]\tvalidation_0-logloss:0.42602\n",
      "[317]\tvalidation_0-logloss:0.42634\n",
      "[318]\tvalidation_0-logloss:0.42614\n",
      "[319]\tvalidation_0-logloss:0.42663\n",
      "[320]\tvalidation_0-logloss:0.42646\n",
      "[321]\tvalidation_0-logloss:0.42641\n",
      "[322]\tvalidation_0-logloss:0.42647\n",
      "[323]\tvalidation_0-logloss:0.42661\n",
      "[324]\tvalidation_0-logloss:0.42676\n",
      "[325]\tvalidation_0-logloss:0.42655\n",
      "[326]\tvalidation_0-logloss:0.42680\n",
      "[327]\tvalidation_0-logloss:0.42695\n",
      "[328]\tvalidation_0-logloss:0.42728\n",
      "[329]\tvalidation_0-logloss:0.42724\n",
      "[330]\tvalidation_0-logloss:0.42729\n",
      "[331]\tvalidation_0-logloss:0.42781\n",
      "[332]\tvalidation_0-logloss:0.42771\n",
      "[333]\tvalidation_0-logloss:0.42805\n",
      "[334]\tvalidation_0-logloss:0.42802\n",
      "[335]\tvalidation_0-logloss:0.42792\n",
      "[336]\tvalidation_0-logloss:0.42818\n",
      "[337]\tvalidation_0-logloss:0.42796\n",
      "[338]\tvalidation_0-logloss:0.42832\n",
      "[339]\tvalidation_0-logloss:0.42915\n",
      "[340]\tvalidation_0-logloss:0.42942\n",
      "[341]\tvalidation_0-logloss:0.42920\n",
      "[342]\tvalidation_0-logloss:0.42913\n",
      "[343]\tvalidation_0-logloss:0.42963\n",
      "[344]\tvalidation_0-logloss:0.42994\n",
      "[345]\tvalidation_0-logloss:0.42983\n",
      "[346]\tvalidation_0-logloss:0.42956\n",
      "[347]\tvalidation_0-logloss:0.42968\n",
      "[348]\tvalidation_0-logloss:0.42961\n",
      "[349]\tvalidation_0-logloss:0.42957\n",
      "[350]\tvalidation_0-logloss:0.42995\n",
      "[351]\tvalidation_0-logloss:0.43044\n",
      "[352]\tvalidation_0-logloss:0.43104\n",
      "[353]\tvalidation_0-logloss:0.43094\n",
      "[354]\tvalidation_0-logloss:0.43083\n",
      "[355]\tvalidation_0-logloss:0.43050\n",
      "[356]\tvalidation_0-logloss:0.43087\n",
      "[357]\tvalidation_0-logloss:0.43101\n",
      "[358]\tvalidation_0-logloss:0.43148\n",
      "[359]\tvalidation_0-logloss:0.43113\n",
      "[360]\tvalidation_0-logloss:0.43100\n",
      "[361]\tvalidation_0-logloss:0.43090\n",
      "[362]\tvalidation_0-logloss:0.43061\n",
      "[363]\tvalidation_0-logloss:0.43062\n",
      "[364]\tvalidation_0-logloss:0.43126\n",
      "[365]\tvalidation_0-logloss:0.43152\n",
      "[366]\tvalidation_0-logloss:0.43150\n",
      "[367]\tvalidation_0-logloss:0.43213\n",
      "[368]\tvalidation_0-logloss:0.43221\n",
      "[369]\tvalidation_0-logloss:0.43228\n",
      "[370]\tvalidation_0-logloss:0.43213\n",
      "[371]\tvalidation_0-logloss:0.43238\n",
      "[372]\tvalidation_0-logloss:0.43276\n",
      "[373]\tvalidation_0-logloss:0.43321\n",
      "[374]\tvalidation_0-logloss:0.43343\n",
      "[375]\tvalidation_0-logloss:0.43343\n",
      "[376]\tvalidation_0-logloss:0.43386\n",
      "[377]\tvalidation_0-logloss:0.43373\n",
      "[378]\tvalidation_0-logloss:0.43349\n",
      "[379]\tvalidation_0-logloss:0.43395\n",
      "[380]\tvalidation_0-logloss:0.43378\n",
      "[381]\tvalidation_0-logloss:0.43429\n",
      "[382]\tvalidation_0-logloss:0.43426\n",
      "[383]\tvalidation_0-logloss:0.43422\n",
      "[384]\tvalidation_0-logloss:0.43373\n",
      "[385]\tvalidation_0-logloss:0.43423\n",
      "[386]\tvalidation_0-logloss:0.43444\n",
      "[387]\tvalidation_0-logloss:0.43450\n",
      "[388]\tvalidation_0-logloss:0.43467\n",
      "[389]\tvalidation_0-logloss:0.43516\n",
      "[390]\tvalidation_0-logloss:0.43568\n",
      "[391]\tvalidation_0-logloss:0.43557\n",
      "[392]\tvalidation_0-logloss:0.43562\n",
      "[393]\tvalidation_0-logloss:0.43553\n",
      "[394]\tvalidation_0-logloss:0.43551\n",
      "[395]\tvalidation_0-logloss:0.43621\n",
      "[396]\tvalidation_0-logloss:0.43638\n",
      "[397]\tvalidation_0-logloss:0.43681\n",
      "[398]\tvalidation_0-logloss:0.43652\n",
      "[399]\tvalidation_0-logloss:0.43682\n",
      "[400]\tvalidation_0-logloss:0.43741\n",
      "[401]\tvalidation_0-logloss:0.43768\n",
      "[402]\tvalidation_0-logloss:0.43817\n",
      "[403]\tvalidation_0-logloss:0.43841\n",
      "[404]\tvalidation_0-logloss:0.43864\n",
      "[405]\tvalidation_0-logloss:0.43923\n",
      "[406]\tvalidation_0-logloss:0.43950\n",
      "[407]\tvalidation_0-logloss:0.43976\n",
      "[408]\tvalidation_0-logloss:0.43973\n",
      "[409]\tvalidation_0-logloss:0.43979\n",
      "[410]\tvalidation_0-logloss:0.44022\n",
      "[411]\tvalidation_0-logloss:0.44018\n",
      "[412]\tvalidation_0-logloss:0.44056\n",
      "[413]\tvalidation_0-logloss:0.44063\n",
      "[414]\tvalidation_0-logloss:0.44086\n",
      "[415]\tvalidation_0-logloss:0.44104\n",
      "[416]\tvalidation_0-logloss:0.44109\n",
      "[417]\tvalidation_0-logloss:0.44107\n",
      "[418]\tvalidation_0-logloss:0.44152\n",
      "[419]\tvalidation_0-logloss:0.44153\n",
      "[420]\tvalidation_0-logloss:0.44174\n",
      "[421]\tvalidation_0-logloss:0.44184\n",
      "[422]\tvalidation_0-logloss:0.44233\n",
      "[423]\tvalidation_0-logloss:0.44207\n",
      "[424]\tvalidation_0-logloss:0.44181\n",
      "[425]\tvalidation_0-logloss:0.44208\n",
      "[426]\tvalidation_0-logloss:0.44209\n",
      "[427]\tvalidation_0-logloss:0.44206\n",
      "[428]\tvalidation_0-logloss:0.44241\n",
      "[429]\tvalidation_0-logloss:0.44263\n",
      "[430]\tvalidation_0-logloss:0.44297\n",
      "[431]\tvalidation_0-logloss:0.44333\n",
      "[432]\tvalidation_0-logloss:0.44319\n",
      "[433]\tvalidation_0-logloss:0.44363\n",
      "[434]\tvalidation_0-logloss:0.44326\n",
      "[435]\tvalidation_0-logloss:0.44282\n"
     ]
    },
    {
     "data": {
      "text/plain": [
       "XGBClassifier(base_score=None, booster=None, callbacks=None,\n",
       "              colsample_bylevel=None, colsample_bynode=None,\n",
       "              colsample_bytree=None, early_stopping_rounds=None,\n",
       "              enable_categorical=False, eval_metric=None, feature_types=None,\n",
       "              gamma=None, gpu_id=None, grow_policy=None, importance_type=None,\n",
       "              interaction_constraints=None, learning_rate=0.1, max_bin=None,\n",
       "              max_cat_threshold=None, max_cat_to_onehot=None,\n",
       "              max_delta_step=None, max_depth=None, max_leaves=None,\n",
       "              min_child_weight=None, missing=nan, monotone_constraints=None,\n",
       "              n_estimators=500, n_jobs=None, num_parallel_tree=None,\n",
       "              predictor=None, random_state=55, ...)"
      ]
     },
     "execution_count": 98,
     "metadata": {},
     "output_type": "execute_result"
    }
   ],
   "source": [
    "xgb_model = XGBClassifier(n_estimators = 500, learning_rate = 0.1,verbosity = 1, random_state = RANDOM_STATE)\n",
    "xgb_model.fit(X_train_fit,y_train_fit, eval_set = [(X_train_eval,y_train_eval)], early_stopping_rounds = 400)"
   ]
  },
  {
   "cell_type": "code",
   "execution_count": 99,
   "metadata": {},
   "outputs": [
    {
     "data": {
      "text/plain": [
       "35"
      ]
     },
     "execution_count": 99,
     "metadata": {},
     "output_type": "execute_result"
    }
   ],
   "source": [
    "xgb_model.best_iteration"
   ]
  },
  {
   "attachments": {},
   "cell_type": "markdown",
   "metadata": {},
   "source": [
    "The best round of training was round 35, with a log loss of 0.30799.  \n"
   ]
  },
  {
   "cell_type": "code",
   "execution_count": 100,
   "metadata": {},
   "outputs": [],
   "source": [
    "accuracy_train_boost = accuracy_score(xgb_model.predict(X_train),y_train)\n",
    "accuracy_val_boost = accuracy_score(xgb_model.predict(X_val),y_val)"
   ]
  },
  {
   "cell_type": "code",
   "execution_count": 101,
   "metadata": {},
   "outputs": [
    {
     "name": "stdout",
     "output_type": "stream",
     "text": [
      "Metrics train:\n",
      "\tAccuracy score: 0.9673\n",
      "Metrics test:\n",
      "\tAccuracy score: 0.8859\n"
     ]
    }
   ],
   "source": [
    "print(f\"Metrics train:\\n\\tAccuracy score: {accuracy_train_boost:.4f}\\nMetrics test:\\n\\tAccuracy score: {accuracy_val_boost:.4f}\")"
   ]
  },
  {
   "cell_type": "code",
   "execution_count": 102,
   "metadata": {},
   "outputs": [],
   "source": [
    "accuracies[\"XGBoost\"] = 0.886"
   ]
  },
  {
   "attachments": {},
   "cell_type": "markdown",
   "metadata": {},
   "source": [
    "## 4.4 Logistic Regression"
   ]
  },
  {
   "cell_type": "code",
   "execution_count": 39,
   "metadata": {},
   "outputs": [],
   "source": [
    "from sklearn.linear_model import LogisticRegression\n",
    "from sklearn.metrics import f1_score,accuracy_score\n",
    "from sklearn.preprocessing import StandardScaler"
   ]
  },
  {
   "cell_type": "markdown",
   "metadata": {},
   "source": [
    "let's normalize our data, note that i made the model without scaling and it give me almost same result"
   ]
  },
  {
   "cell_type": "code",
   "execution_count": 40,
   "metadata": {},
   "outputs": [
    {
     "name": "stdout",
     "output_type": "stream",
     "text": [
      "[[ 0.37715866 -2.08166729 -1.79329992  1.78725648  1.73136672]\n",
      " [-0.04038954  0.70096573  2.87366437 -0.55951679 -0.28766185]\n",
      " [ 0.58593276  0.97922903  0.1167318   1.78725648  0.76067991]\n",
      " [ 0.06399751  1.53575563 -0.03643112 -0.55951679 -0.28766185]\n",
      " [-0.04038954 -0.13382418 -1.79329992 -0.55951679 -0.67593657]]\n"
     ]
    }
   ],
   "source": [
    "scale = StandardScaler()\n",
    "X_train_scale = scale.fit_transform(X_train)\n",
    "X_val_scale = scale.transform(X_val)\n",
    "print(X_train_scale[:5,:5])"
   ]
  },
  {
   "cell_type": "code",
   "execution_count": 41,
   "metadata": {},
   "outputs": [
    {
     "name": "stdout",
     "output_type": "stream",
     "text": [
      "acurracy of train set: 0.8732970027247956\n",
      "f1_score of train set: 0.8878166465621231\n",
      "acurracy of val set: 0.875\n",
      "f1_score of val set: 0.8866995073891626\n"
     ]
    }
   ],
   "source": [
    "clf = LogisticRegression()\n",
    "clf_model = clf.fit(X_train_scale,y_train)\n",
    "\n",
    "# predict for train set\n",
    "yhat1 = clf.predict(X_train_scale)\n",
    "\n",
    "clf_acurracy1 = accuracy_score(y_train,yhat1)\n",
    "\n",
    "print(f\"acurracy of train set: {clf_acurracy1}\")\n",
    "print(f\"f1_score of train set: {f1_score(y_train,yhat1)}\")\n",
    "\n",
    "# predict for val set\n",
    "yhat2 = clf.predict(X_val_scale)\n",
    "clf_acurracy2 = accuracy_score(y_val,yhat2)\n",
    "\n",
    "print(f\"acurracy of val set: {clf_acurracy2}\")\n",
    "print(f\"f1_score of val set: {f1_score(y_val,yhat2)}\")\n",
    "\n",
    "accuracies[\"Logistic Regression\"] = 0.875"
   ]
  },
  {
   "attachments": {},
   "cell_type": "markdown",
   "metadata": {},
   "source": [
    "## 4.5 K-Nearest Neighbour (KNN)"
   ]
  },
  {
   "cell_type": "code",
   "execution_count": 42,
   "metadata": {},
   "outputs": [],
   "source": [
    "from sklearn.neighbors import KNeighborsClassifier"
   ]
  },
  {
   "cell_type": "code",
   "execution_count": 43,
   "metadata": {},
   "outputs": [
    {
     "name": "stdout",
     "output_type": "stream",
     "text": [
      " accuracy of train set: 0.8828337874659401\n",
      " accuracy of val set: 0.875\n"
     ]
    },
    {
     "name": "stderr",
     "output_type": "stream",
     "text": [
      "c:\\Users\\M4TECH\\anaconda3\\lib\\site-packages\\sklearn\\neighbors\\_classification.py:228: FutureWarning: Unlike other reduction functions (e.g. `skew`, `kurtosis`), the default behavior of `mode` typically preserves the axis it acts along. In SciPy 1.11.0, this behavior will change: the default value of `keepdims` will become False, the `axis` over which the statistic is taken will be eliminated, and the value None will no longer be accepted. Set `keepdims` to True or False to avoid this warning.\n",
      "  mode, _ = stats.mode(_y[neigh_ind, k], axis=1)\n",
      "c:\\Users\\M4TECH\\anaconda3\\lib\\site-packages\\sklearn\\neighbors\\_classification.py:228: FutureWarning: Unlike other reduction functions (e.g. `skew`, `kurtosis`), the default behavior of `mode` typically preserves the axis it acts along. In SciPy 1.11.0, this behavior will change: the default value of `keepdims` will become False, the `axis` over which the statistic is taken will be eliminated, and the value None will no longer be accepted. Set `keepdims` to True or False to avoid this warning.\n",
      "  mode, _ = stats.mode(_y[neigh_ind, k], axis=1)\n"
     ]
    }
   ],
   "source": [
    "knn = KNeighborsClassifier(n_neighbors=7)\n",
    "knn.fit(X_train_scale,y_train)\n",
    "\n",
    "# in the train set\n",
    "predict1 = knn.predict(X_train_scale)\n",
    "\n",
    "knn_accuracy1 = accuracy_score(y_train,predict1)\n",
    "print(f\" accuracy of train set: {knn_accuracy1}\")\n",
    "\n",
    "# in the val set\n",
    "predict2 = knn.predict(X_val_scale)\n",
    "\n",
    "knn_accuracy2 = accuracy_score(y_val,predict2)\n",
    "print(f\" accuracy of val set: {knn_accuracy2}\")\n"
   ]
  },
  {
   "cell_type": "code",
   "execution_count": 44,
   "metadata": {},
   "outputs": [
    {
     "name": "stderr",
     "output_type": "stream",
     "text": [
      "c:\\Users\\M4TECH\\anaconda3\\lib\\site-packages\\sklearn\\neighbors\\_classification.py:228: FutureWarning: Unlike other reduction functions (e.g. `skew`, `kurtosis`), the default behavior of `mode` typically preserves the axis it acts along. In SciPy 1.11.0, this behavior will change: the default value of `keepdims` will become False, the `axis` over which the statistic is taken will be eliminated, and the value None will no longer be accepted. Set `keepdims` to True or False to avoid this warning.\n",
      "  mode, _ = stats.mode(_y[neigh_ind, k], axis=1)\n",
      "c:\\Users\\M4TECH\\anaconda3\\lib\\site-packages\\sklearn\\neighbors\\_classification.py:228: FutureWarning: Unlike other reduction functions (e.g. `skew`, `kurtosis`), the default behavior of `mode` typically preserves the axis it acts along. In SciPy 1.11.0, this behavior will change: the default value of `keepdims` will become False, the `axis` over which the statistic is taken will be eliminated, and the value None will no longer be accepted. Set `keepdims` to True or False to avoid this warning.\n",
      "  mode, _ = stats.mode(_y[neigh_ind, k], axis=1)\n",
      "c:\\Users\\M4TECH\\anaconda3\\lib\\site-packages\\sklearn\\neighbors\\_classification.py:228: FutureWarning: Unlike other reduction functions (e.g. `skew`, `kurtosis`), the default behavior of `mode` typically preserves the axis it acts along. In SciPy 1.11.0, this behavior will change: the default value of `keepdims` will become False, the `axis` over which the statistic is taken will be eliminated, and the value None will no longer be accepted. Set `keepdims` to True or False to avoid this warning.\n",
      "  mode, _ = stats.mode(_y[neigh_ind, k], axis=1)\n",
      "c:\\Users\\M4TECH\\anaconda3\\lib\\site-packages\\sklearn\\neighbors\\_classification.py:228: FutureWarning: Unlike other reduction functions (e.g. `skew`, `kurtosis`), the default behavior of `mode` typically preserves the axis it acts along. In SciPy 1.11.0, this behavior will change: the default value of `keepdims` will become False, the `axis` over which the statistic is taken will be eliminated, and the value None will no longer be accepted. Set `keepdims` to True or False to avoid this warning.\n",
      "  mode, _ = stats.mode(_y[neigh_ind, k], axis=1)\n",
      "c:\\Users\\M4TECH\\anaconda3\\lib\\site-packages\\sklearn\\neighbors\\_classification.py:228: FutureWarning: Unlike other reduction functions (e.g. `skew`, `kurtosis`), the default behavior of `mode` typically preserves the axis it acts along. In SciPy 1.11.0, this behavior will change: the default value of `keepdims` will become False, the `axis` over which the statistic is taken will be eliminated, and the value None will no longer be accepted. Set `keepdims` to True or False to avoid this warning.\n",
      "  mode, _ = stats.mode(_y[neigh_ind, k], axis=1)\n",
      "c:\\Users\\M4TECH\\anaconda3\\lib\\site-packages\\sklearn\\neighbors\\_classification.py:228: FutureWarning: Unlike other reduction functions (e.g. `skew`, `kurtosis`), the default behavior of `mode` typically preserves the axis it acts along. In SciPy 1.11.0, this behavior will change: the default value of `keepdims` will become False, the `axis` over which the statistic is taken will be eliminated, and the value None will no longer be accepted. Set `keepdims` to True or False to avoid this warning.\n",
      "  mode, _ = stats.mode(_y[neigh_ind, k], axis=1)\n",
      "c:\\Users\\M4TECH\\anaconda3\\lib\\site-packages\\sklearn\\neighbors\\_classification.py:228: FutureWarning: Unlike other reduction functions (e.g. `skew`, `kurtosis`), the default behavior of `mode` typically preserves the axis it acts along. In SciPy 1.11.0, this behavior will change: the default value of `keepdims` will become False, the `axis` over which the statistic is taken will be eliminated, and the value None will no longer be accepted. Set `keepdims` to True or False to avoid this warning.\n",
      "  mode, _ = stats.mode(_y[neigh_ind, k], axis=1)\n",
      "c:\\Users\\M4TECH\\anaconda3\\lib\\site-packages\\sklearn\\neighbors\\_classification.py:228: FutureWarning: Unlike other reduction functions (e.g. `skew`, `kurtosis`), the default behavior of `mode` typically preserves the axis it acts along. In SciPy 1.11.0, this behavior will change: the default value of `keepdims` will become False, the `axis` over which the statistic is taken will be eliminated, and the value None will no longer be accepted. Set `keepdims` to True or False to avoid this warning.\n",
      "  mode, _ = stats.mode(_y[neigh_ind, k], axis=1)\n",
      "c:\\Users\\M4TECH\\anaconda3\\lib\\site-packages\\sklearn\\neighbors\\_classification.py:228: FutureWarning: Unlike other reduction functions (e.g. `skew`, `kurtosis`), the default behavior of `mode` typically preserves the axis it acts along. In SciPy 1.11.0, this behavior will change: the default value of `keepdims` will become False, the `axis` over which the statistic is taken will be eliminated, and the value None will no longer be accepted. Set `keepdims` to True or False to avoid this warning.\n",
      "  mode, _ = stats.mode(_y[neigh_ind, k], axis=1)\n",
      "c:\\Users\\M4TECH\\anaconda3\\lib\\site-packages\\sklearn\\neighbors\\_classification.py:228: FutureWarning: Unlike other reduction functions (e.g. `skew`, `kurtosis`), the default behavior of `mode` typically preserves the axis it acts along. In SciPy 1.11.0, this behavior will change: the default value of `keepdims` will become False, the `axis` over which the statistic is taken will be eliminated, and the value None will no longer be accepted. Set `keepdims` to True or False to avoid this warning.\n",
      "  mode, _ = stats.mode(_y[neigh_ind, k], axis=1)\n",
      "c:\\Users\\M4TECH\\anaconda3\\lib\\site-packages\\sklearn\\neighbors\\_classification.py:228: FutureWarning: Unlike other reduction functions (e.g. `skew`, `kurtosis`), the default behavior of `mode` typically preserves the axis it acts along. In SciPy 1.11.0, this behavior will change: the default value of `keepdims` will become False, the `axis` over which the statistic is taken will be eliminated, and the value None will no longer be accepted. Set `keepdims` to True or False to avoid this warning.\n",
      "  mode, _ = stats.mode(_y[neigh_ind, k], axis=1)\n",
      "c:\\Users\\M4TECH\\anaconda3\\lib\\site-packages\\sklearn\\neighbors\\_classification.py:228: FutureWarning: Unlike other reduction functions (e.g. `skew`, `kurtosis`), the default behavior of `mode` typically preserves the axis it acts along. In SciPy 1.11.0, this behavior will change: the default value of `keepdims` will become False, the `axis` over which the statistic is taken will be eliminated, and the value None will no longer be accepted. Set `keepdims` to True or False to avoid this warning.\n",
      "  mode, _ = stats.mode(_y[neigh_ind, k], axis=1)\n",
      "c:\\Users\\M4TECH\\anaconda3\\lib\\site-packages\\sklearn\\neighbors\\_classification.py:228: FutureWarning: Unlike other reduction functions (e.g. `skew`, `kurtosis`), the default behavior of `mode` typically preserves the axis it acts along. In SciPy 1.11.0, this behavior will change: the default value of `keepdims` will become False, the `axis` over which the statistic is taken will be eliminated, and the value None will no longer be accepted. Set `keepdims` to True or False to avoid this warning.\n",
      "  mode, _ = stats.mode(_y[neigh_ind, k], axis=1)\n",
      "c:\\Users\\M4TECH\\anaconda3\\lib\\site-packages\\sklearn\\neighbors\\_classification.py:228: FutureWarning: Unlike other reduction functions (e.g. `skew`, `kurtosis`), the default behavior of `mode` typically preserves the axis it acts along. In SciPy 1.11.0, this behavior will change: the default value of `keepdims` will become False, the `axis` over which the statistic is taken will be eliminated, and the value None will no longer be accepted. Set `keepdims` to True or False to avoid this warning.\n",
      "  mode, _ = stats.mode(_y[neigh_ind, k], axis=1)\n",
      "c:\\Users\\M4TECH\\anaconda3\\lib\\site-packages\\sklearn\\neighbors\\_classification.py:228: FutureWarning: Unlike other reduction functions (e.g. `skew`, `kurtosis`), the default behavior of `mode` typically preserves the axis it acts along. In SciPy 1.11.0, this behavior will change: the default value of `keepdims` will become False, the `axis` over which the statistic is taken will be eliminated, and the value None will no longer be accepted. Set `keepdims` to True or False to avoid this warning.\n",
      "  mode, _ = stats.mode(_y[neigh_ind, k], axis=1)\n",
      "c:\\Users\\M4TECH\\anaconda3\\lib\\site-packages\\sklearn\\neighbors\\_classification.py:228: FutureWarning: Unlike other reduction functions (e.g. `skew`, `kurtosis`), the default behavior of `mode` typically preserves the axis it acts along. In SciPy 1.11.0, this behavior will change: the default value of `keepdims` will become False, the `axis` over which the statistic is taken will be eliminated, and the value None will no longer be accepted. Set `keepdims` to True or False to avoid this warning.\n",
      "  mode, _ = stats.mode(_y[neigh_ind, k], axis=1)\n",
      "c:\\Users\\M4TECH\\anaconda3\\lib\\site-packages\\sklearn\\neighbors\\_classification.py:228: FutureWarning: Unlike other reduction functions (e.g. `skew`, `kurtosis`), the default behavior of `mode` typically preserves the axis it acts along. In SciPy 1.11.0, this behavior will change: the default value of `keepdims` will become False, the `axis` over which the statistic is taken will be eliminated, and the value None will no longer be accepted. Set `keepdims` to True or False to avoid this warning.\n",
      "  mode, _ = stats.mode(_y[neigh_ind, k], axis=1)\n",
      "c:\\Users\\M4TECH\\anaconda3\\lib\\site-packages\\sklearn\\neighbors\\_classification.py:228: FutureWarning: Unlike other reduction functions (e.g. `skew`, `kurtosis`), the default behavior of `mode` typically preserves the axis it acts along. In SciPy 1.11.0, this behavior will change: the default value of `keepdims` will become False, the `axis` over which the statistic is taken will be eliminated, and the value None will no longer be accepted. Set `keepdims` to True or False to avoid this warning.\n",
      "  mode, _ = stats.mode(_y[neigh_ind, k], axis=1)\n",
      "c:\\Users\\M4TECH\\anaconda3\\lib\\site-packages\\sklearn\\neighbors\\_classification.py:228: FutureWarning: Unlike other reduction functions (e.g. `skew`, `kurtosis`), the default behavior of `mode` typically preserves the axis it acts along. In SciPy 1.11.0, this behavior will change: the default value of `keepdims` will become False, the `axis` over which the statistic is taken will be eliminated, and the value None will no longer be accepted. Set `keepdims` to True or False to avoid this warning.\n",
      "  mode, _ = stats.mode(_y[neigh_ind, k], axis=1)\n",
      "c:\\Users\\M4TECH\\anaconda3\\lib\\site-packages\\sklearn\\neighbors\\_classification.py:228: FutureWarning: Unlike other reduction functions (e.g. `skew`, `kurtosis`), the default behavior of `mode` typically preserves the axis it acts along. In SciPy 1.11.0, this behavior will change: the default value of `keepdims` will become False, the `axis` over which the statistic is taken will be eliminated, and the value None will no longer be accepted. Set `keepdims` to True or False to avoid this warning.\n",
      "  mode, _ = stats.mode(_y[neigh_ind, k], axis=1)\n",
      "c:\\Users\\M4TECH\\anaconda3\\lib\\site-packages\\sklearn\\neighbors\\_classification.py:228: FutureWarning: Unlike other reduction functions (e.g. `skew`, `kurtosis`), the default behavior of `mode` typically preserves the axis it acts along. In SciPy 1.11.0, this behavior will change: the default value of `keepdims` will become False, the `axis` over which the statistic is taken will be eliminated, and the value None will no longer be accepted. Set `keepdims` to True or False to avoid this warning.\n",
      "  mode, _ = stats.mode(_y[neigh_ind, k], axis=1)\n",
      "c:\\Users\\M4TECH\\anaconda3\\lib\\site-packages\\sklearn\\neighbors\\_classification.py:228: FutureWarning: Unlike other reduction functions (e.g. `skew`, `kurtosis`), the default behavior of `mode` typically preserves the axis it acts along. In SciPy 1.11.0, this behavior will change: the default value of `keepdims` will become False, the `axis` over which the statistic is taken will be eliminated, and the value None will no longer be accepted. Set `keepdims` to True or False to avoid this warning.\n",
      "  mode, _ = stats.mode(_y[neigh_ind, k], axis=1)\n",
      "c:\\Users\\M4TECH\\anaconda3\\lib\\site-packages\\sklearn\\neighbors\\_classification.py:228: FutureWarning: Unlike other reduction functions (e.g. `skew`, `kurtosis`), the default behavior of `mode` typically preserves the axis it acts along. In SciPy 1.11.0, this behavior will change: the default value of `keepdims` will become False, the `axis` over which the statistic is taken will be eliminated, and the value None will no longer be accepted. Set `keepdims` to True or False to avoid this warning.\n",
      "  mode, _ = stats.mode(_y[neigh_ind, k], axis=1)\n",
      "c:\\Users\\M4TECH\\anaconda3\\lib\\site-packages\\sklearn\\neighbors\\_classification.py:228: FutureWarning: Unlike other reduction functions (e.g. `skew`, `kurtosis`), the default behavior of `mode` typically preserves the axis it acts along. In SciPy 1.11.0, this behavior will change: the default value of `keepdims` will become False, the `axis` over which the statistic is taken will be eliminated, and the value None will no longer be accepted. Set `keepdims` to True or False to avoid this warning.\n",
      "  mode, _ = stats.mode(_y[neigh_ind, k], axis=1)\n",
      "c:\\Users\\M4TECH\\anaconda3\\lib\\site-packages\\sklearn\\neighbors\\_classification.py:228: FutureWarning: Unlike other reduction functions (e.g. `skew`, `kurtosis`), the default behavior of `mode` typically preserves the axis it acts along. In SciPy 1.11.0, this behavior will change: the default value of `keepdims` will become False, the `axis` over which the statistic is taken will be eliminated, and the value None will no longer be accepted. Set `keepdims` to True or False to avoid this warning.\n",
      "  mode, _ = stats.mode(_y[neigh_ind, k], axis=1)\n",
      "c:\\Users\\M4TECH\\anaconda3\\lib\\site-packages\\sklearn\\neighbors\\_classification.py:228: FutureWarning: Unlike other reduction functions (e.g. `skew`, `kurtosis`), the default behavior of `mode` typically preserves the axis it acts along. In SciPy 1.11.0, this behavior will change: the default value of `keepdims` will become False, the `axis` over which the statistic is taken will be eliminated, and the value None will no longer be accepted. Set `keepdims` to True or False to avoid this warning.\n",
      "  mode, _ = stats.mode(_y[neigh_ind, k], axis=1)\n",
      "c:\\Users\\M4TECH\\anaconda3\\lib\\site-packages\\sklearn\\neighbors\\_classification.py:228: FutureWarning: Unlike other reduction functions (e.g. `skew`, `kurtosis`), the default behavior of `mode` typically preserves the axis it acts along. In SciPy 1.11.0, this behavior will change: the default value of `keepdims` will become False, the `axis` over which the statistic is taken will be eliminated, and the value None will no longer be accepted. Set `keepdims` to True or False to avoid this warning.\n",
      "  mode, _ = stats.mode(_y[neigh_ind, k], axis=1)\n",
      "c:\\Users\\M4TECH\\anaconda3\\lib\\site-packages\\sklearn\\neighbors\\_classification.py:228: FutureWarning: Unlike other reduction functions (e.g. `skew`, `kurtosis`), the default behavior of `mode` typically preserves the axis it acts along. In SciPy 1.11.0, this behavior will change: the default value of `keepdims` will become False, the `axis` over which the statistic is taken will be eliminated, and the value None will no longer be accepted. Set `keepdims` to True or False to avoid this warning.\n",
      "  mode, _ = stats.mode(_y[neigh_ind, k], axis=1)\n",
      "c:\\Users\\M4TECH\\anaconda3\\lib\\site-packages\\sklearn\\neighbors\\_classification.py:228: FutureWarning: Unlike other reduction functions (e.g. `skew`, `kurtosis`), the default behavior of `mode` typically preserves the axis it acts along. In SciPy 1.11.0, this behavior will change: the default value of `keepdims` will become False, the `axis` over which the statistic is taken will be eliminated, and the value None will no longer be accepted. Set `keepdims` to True or False to avoid this warning.\n",
      "  mode, _ = stats.mode(_y[neigh_ind, k], axis=1)\n",
      "c:\\Users\\M4TECH\\anaconda3\\lib\\site-packages\\sklearn\\neighbors\\_classification.py:228: FutureWarning: Unlike other reduction functions (e.g. `skew`, `kurtosis`), the default behavior of `mode` typically preserves the axis it acts along. In SciPy 1.11.0, this behavior will change: the default value of `keepdims` will become False, the `axis` over which the statistic is taken will be eliminated, and the value None will no longer be accepted. Set `keepdims` to True or False to avoid this warning.\n",
      "  mode, _ = stats.mode(_y[neigh_ind, k], axis=1)\n",
      "c:\\Users\\M4TECH\\anaconda3\\lib\\site-packages\\sklearn\\neighbors\\_classification.py:228: FutureWarning: Unlike other reduction functions (e.g. `skew`, `kurtosis`), the default behavior of `mode` typically preserves the axis it acts along. In SciPy 1.11.0, this behavior will change: the default value of `keepdims` will become False, the `axis` over which the statistic is taken will be eliminated, and the value None will no longer be accepted. Set `keepdims` to True or False to avoid this warning.\n",
      "  mode, _ = stats.mode(_y[neigh_ind, k], axis=1)\n",
      "c:\\Users\\M4TECH\\anaconda3\\lib\\site-packages\\sklearn\\neighbors\\_classification.py:228: FutureWarning: Unlike other reduction functions (e.g. `skew`, `kurtosis`), the default behavior of `mode` typically preserves the axis it acts along. In SciPy 1.11.0, this behavior will change: the default value of `keepdims` will become False, the `axis` over which the statistic is taken will be eliminated, and the value None will no longer be accepted. Set `keepdims` to True or False to avoid this warning.\n",
      "  mode, _ = stats.mode(_y[neigh_ind, k], axis=1)\n",
      "c:\\Users\\M4TECH\\anaconda3\\lib\\site-packages\\sklearn\\neighbors\\_classification.py:228: FutureWarning: Unlike other reduction functions (e.g. `skew`, `kurtosis`), the default behavior of `mode` typically preserves the axis it acts along. In SciPy 1.11.0, this behavior will change: the default value of `keepdims` will become False, the `axis` over which the statistic is taken will be eliminated, and the value None will no longer be accepted. Set `keepdims` to True or False to avoid this warning.\n",
      "  mode, _ = stats.mode(_y[neigh_ind, k], axis=1)\n",
      "c:\\Users\\M4TECH\\anaconda3\\lib\\site-packages\\sklearn\\neighbors\\_classification.py:228: FutureWarning: Unlike other reduction functions (e.g. `skew`, `kurtosis`), the default behavior of `mode` typically preserves the axis it acts along. In SciPy 1.11.0, this behavior will change: the default value of `keepdims` will become False, the `axis` over which the statistic is taken will be eliminated, and the value None will no longer be accepted. Set `keepdims` to True or False to avoid this warning.\n",
      "  mode, _ = stats.mode(_y[neigh_ind, k], axis=1)\n",
      "c:\\Users\\M4TECH\\anaconda3\\lib\\site-packages\\sklearn\\neighbors\\_classification.py:228: FutureWarning: Unlike other reduction functions (e.g. `skew`, `kurtosis`), the default behavior of `mode` typically preserves the axis it acts along. In SciPy 1.11.0, this behavior will change: the default value of `keepdims` will become False, the `axis` over which the statistic is taken will be eliminated, and the value None will no longer be accepted. Set `keepdims` to True or False to avoid this warning.\n",
      "  mode, _ = stats.mode(_y[neigh_ind, k], axis=1)\n",
      "c:\\Users\\M4TECH\\anaconda3\\lib\\site-packages\\sklearn\\neighbors\\_classification.py:228: FutureWarning: Unlike other reduction functions (e.g. `skew`, `kurtosis`), the default behavior of `mode` typically preserves the axis it acts along. In SciPy 1.11.0, this behavior will change: the default value of `keepdims` will become False, the `axis` over which the statistic is taken will be eliminated, and the value None will no longer be accepted. Set `keepdims` to True or False to avoid this warning.\n",
      "  mode, _ = stats.mode(_y[neigh_ind, k], axis=1)\n",
      "c:\\Users\\M4TECH\\anaconda3\\lib\\site-packages\\sklearn\\neighbors\\_classification.py:228: FutureWarning: Unlike other reduction functions (e.g. `skew`, `kurtosis`), the default behavior of `mode` typically preserves the axis it acts along. In SciPy 1.11.0, this behavior will change: the default value of `keepdims` will become False, the `axis` over which the statistic is taken will be eliminated, and the value None will no longer be accepted. Set `keepdims` to True or False to avoid this warning.\n",
      "  mode, _ = stats.mode(_y[neigh_ind, k], axis=1)\n",
      "c:\\Users\\M4TECH\\anaconda3\\lib\\site-packages\\sklearn\\neighbors\\_classification.py:228: FutureWarning: Unlike other reduction functions (e.g. `skew`, `kurtosis`), the default behavior of `mode` typically preserves the axis it acts along. In SciPy 1.11.0, this behavior will change: the default value of `keepdims` will become False, the `axis` over which the statistic is taken will be eliminated, and the value None will no longer be accepted. Set `keepdims` to True or False to avoid this warning.\n",
      "  mode, _ = stats.mode(_y[neigh_ind, k], axis=1)\n",
      "c:\\Users\\M4TECH\\anaconda3\\lib\\site-packages\\sklearn\\neighbors\\_classification.py:228: FutureWarning: Unlike other reduction functions (e.g. `skew`, `kurtosis`), the default behavior of `mode` typically preserves the axis it acts along. In SciPy 1.11.0, this behavior will change: the default value of `keepdims` will become False, the `axis` over which the statistic is taken will be eliminated, and the value None will no longer be accepted. Set `keepdims` to True or False to avoid this warning.\n",
      "  mode, _ = stats.mode(_y[neigh_ind, k], axis=1)\n",
      "c:\\Users\\M4TECH\\anaconda3\\lib\\site-packages\\sklearn\\neighbors\\_classification.py:228: FutureWarning: Unlike other reduction functions (e.g. `skew`, `kurtosis`), the default behavior of `mode` typically preserves the axis it acts along. In SciPy 1.11.0, this behavior will change: the default value of `keepdims` will become False, the `axis` over which the statistic is taken will be eliminated, and the value None will no longer be accepted. Set `keepdims` to True or False to avoid this warning.\n",
      "  mode, _ = stats.mode(_y[neigh_ind, k], axis=1)\n",
      "c:\\Users\\M4TECH\\anaconda3\\lib\\site-packages\\sklearn\\neighbors\\_classification.py:228: FutureWarning: Unlike other reduction functions (e.g. `skew`, `kurtosis`), the default behavior of `mode` typically preserves the axis it acts along. In SciPy 1.11.0, this behavior will change: the default value of `keepdims` will become False, the `axis` over which the statistic is taken will be eliminated, and the value None will no longer be accepted. Set `keepdims` to True or False to avoid this warning.\n",
      "  mode, _ = stats.mode(_y[neigh_ind, k], axis=1)\n",
      "c:\\Users\\M4TECH\\anaconda3\\lib\\site-packages\\sklearn\\neighbors\\_classification.py:228: FutureWarning: Unlike other reduction functions (e.g. `skew`, `kurtosis`), the default behavior of `mode` typically preserves the axis it acts along. In SciPy 1.11.0, this behavior will change: the default value of `keepdims` will become False, the `axis` over which the statistic is taken will be eliminated, and the value None will no longer be accepted. Set `keepdims` to True or False to avoid this warning.\n",
      "  mode, _ = stats.mode(_y[neigh_ind, k], axis=1)\n"
     ]
    },
    {
     "data": {
      "image/png": "[encoded data removed]",
      "text/plain": [
       "<Figure size 640x480 with 1 Axes>"
      ]
     },
     "metadata": {},
     "output_type": "display_data"
    }
   ],
   "source": [
    "scorelist1 = []\n",
    "scorelist2 = []\n",
    "\n",
    "for i in range(1,22,1):\n",
    "    knn = KNeighborsClassifier(n_neighbors=i)\n",
    "    knn.fit(X_train_scale,y_train)\n",
    "\n",
    "    # in the train set\n",
    "    predict1 = knn.predict(X_train_scale)\n",
    "\n",
    "    knn_accuracy1 = accuracy_score(y_train,predict1)\n",
    "    scorelist1.append(knn_accuracy1)\n",
    "\n",
    "    # in the val set\n",
    "    predict2 = knn.predict(X_val_scale)\n",
    "\n",
    "    knn_accuracy2 = accuracy_score(y_val,predict2)\n",
    "    scorelist2.append(knn_accuracy2)\n",
    "    \n",
    "\n",
    "plt.plot(scorelist1,'g',scorelist2, 'r')\n",
    "plt.xticks(np.arange(1,20,1))\n",
    "plt.gca().legend(('train','val'))\n",
    "plt.xlabel(\"K value\")\n",
    "plt.ylabel(\"Score\")\n",
    "plt.show()\n",
    "\n"
   ]
  },
  {
   "cell_type": "code",
   "execution_count": 45,
   "metadata": {},
   "outputs": [
    {
     "name": "stdout",
     "output_type": "stream",
     "text": [
      "0.8967391304347826\n"
     ]
    }
   ],
   "source": [
    "# get max score in val set\n",
    "print(max(map(lambda x : x ,scorelist2)))\n",
    "\n",
    "accuracies[\"KNN\"] = 0.897"
   ]
  },
  {
   "cell_type": "code",
   "execution_count": 79,
   "metadata": {},
   "outputs": [
    {
     "data": {
      "text/plain": [
       "0.8967391304347826"
      ]
     },
     "execution_count": 79,
     "metadata": {},
     "output_type": "execute_result"
    }
   ],
   "source": [
    "scorelist2[12]   # where i = 12"
   ]
  },
  {
   "attachments": {},
   "cell_type": "markdown",
   "metadata": {},
   "source": [
    "## 4.6 Naive Bayes \n"
   ]
  },
  {
   "cell_type": "code",
   "execution_count": 48,
   "metadata": {},
   "outputs": [],
   "source": [
    "from sklearn.naive_bayes import GaussianNB"
   ]
  },
  {
   "cell_type": "code",
   "execution_count": 50,
   "metadata": {},
   "outputs": [
    {
     "name": "stdout",
     "output_type": "stream",
     "text": [
      "nb accuracy of train set: 0.8596730245231607\n",
      "nb accuracy of val set: 0.875\n"
     ]
    }
   ],
   "source": [
    "nb = GaussianNB()\n",
    "nb.fit(X_train_scale,y_train)\n",
    "\n",
    "# predict for train set\n",
    "pred1 = nb.predict(X_train_scale)\n",
    "nb_accuracy1 = accuracy_score(y_train,pred1)\n",
    "print(f\"nb accuracy of train set: {nb_accuracy1}\")\n",
    "\n",
    "# predict for val set\n",
    "pred2 = nb.predict(X_val_scale)\n",
    "nb_accuracy2 = accuracy_score(y_val,pred2)\n",
    "print(f\"nb accuracy of val set: {nb_accuracy2}\")\n"
   ]
  },
  {
   "cell_type": "code",
   "execution_count": 51,
   "metadata": {},
   "outputs": [],
   "source": [
    "accuracies[\"Naive Bayes\"] = 0.875"
   ]
  },
  {
   "cell_type": "code",
   "execution_count": 103,
   "metadata": {},
   "outputs": [
    {
     "data": {
      "text/plain": [
       "{'Decision Tree': 0.864,\n",
       " 'Random Forest': 0.891,\n",
       " 'XGBoost': 0.886,\n",
       " 'Logistic Regression': 0.875,\n",
       " 'KNN': 0.897,\n",
       " 'Naive Bayes': 0.875}"
      ]
     },
     "execution_count": 103,
     "metadata": {},
     "output_type": "execute_result"
    }
   ],
   "source": [
    "accuracies\n"
   ]
  },
  {
   "cell_type": "markdown",
   "metadata": {},
   "source": [
    "## plot the accuracy of the 6 models "
   ]
  },
  {
   "cell_type": "code",
   "execution_count": 54,
   "metadata": {},
   "outputs": [],
   "source": [
    "import seaborn as sns"
   ]
  },
  {
   "cell_type": "code",
   "execution_count": 104,
   "metadata": {},
   "outputs": [
    {
     "data": {
      "image/png": "[encoded data removed]",
      "text/plain": [
       "<Figure size 1200x500 with 1 Axes>"
      ]
     },
     "metadata": {},
     "output_type": "display_data"
    }
   ],
   "source": [
    "sns.set_style(\"whitegrid\")\n",
    "plt.figure(figsize=(12,5))\n",
    "sns.barplot(x=list(accuracies.keys()), y=list(accuracies.values()))\n",
    "plt.yticks(np.arange(0,1,.1))\n",
    "plt.ylabel(\"Accuracy\")\n",
    "plt.xlabel(\"Models\")\n",
    "plt.title(\"Accuracies of the models\")\n",
    "plt.show()"
   ]
  },
  {
   "attachments": {},
   "cell_type": "markdown",
   "metadata": {},
   "source": [
    "as we see that `KNN`, `XGBoost`, and `Random Forest` models take the lead"
   ]
  }
 ],
 "metadata": {
  "kernelspec": {
   "display_name": "base",
   "language": "python",
   "name": "python3"
  },
  "language_info": {
   "codemirror_mode": {
    "name": "ipython",
    "version": 3
   },
   "file_extension": ".py",
   "mimetype": "text/x-python",
   "name": "python",
   "nbconvert_exporter": "python",
   "pygments_lexer": "ipython3",
   "version": "3.9.13"
  },
  "orig_nbformat": 4
 },
 "nbformat": 4,
 "nbformat_minor": 2
}
